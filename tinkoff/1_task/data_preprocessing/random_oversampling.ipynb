{
 "cells": [
  {
   "cell_type": "markdown",
   "metadata": {
    "collapsed": false
   },
   "source": [
    "Задача 1. Выбор кредита от Tinkoff.ru\n",
    "В credit_train.csv содержится 170746 строк с данными о клиентах сети магазинов электроники, в этих магазинах они подали заявки на кредит. Колонка open_account_flg содержит 1 если клиент выбрал Тинькофф и 0 в противном случае. В credit_test.csv содержится 91940 строк с данными, для каждой строки следует предсказать возьмет ли соответствующий ей человек кредит в Тинькофф.\n",
    "Метрикой качества в задаче является AUC \n",
    "\n",
    "education - образование:\n",
    "\n",
    "    SCH - начальное, среднее\n",
    "    PGR -  второе высшее\n",
    "    GRD - высшее\n",
    "    UGR - неполное высшее\n",
    "    ACD - ученая степень\n",
    "    \n",
    "    \n",
    "job_position - работа\n",
    "\n",
    "    SPC - неруководящий сотрудник, специалист\n",
    "    DIR - руководитель организации\n",
    "    HSK - домохозяйка\n",
    "    INV - не работает, инвалидность\n",
    "    WOI - работает на ИП\n",
    "    WRK - неруководящий сотрудник, рабочий\n",
    "    UMN -  руководитель подразделения\n",
    "    NOR - не работает\n",
    "    PNS - пенсионер\n",
    "    BIS - собственный бизнес \n",
    "    INP - ИП\n",
    "   \n",
    "marital_status - семейное положение\n",
    "\n",
    "    UNM - холост/не замужем\n",
    "    DIV - разведен(а)\n",
    "    MAR - женат/замужем\n",
    "    WID - вдовец/вдова\n",
    "    CIV - гражданский брак\n",
    "    \n",
    "gender - пол \n",
    "\n",
    "age - возраст\n",
    "\n",
    "credit_sum - сумма кредита\n",
    "\n",
    "credit_month - срок кредитования\n",
    "\n",
    "tariff_id - номер предлагаемого тарифа\n",
    "\n",
    "living_region - регион проживания\n",
    "\n",
    "montly_income - заработная плата в месяц\n",
    "\n",
    "credit_count - количество кредитов у клиента\n",
    "\n",
    "overdue_credit_count - количество просроченных кредитов\n",
    "\n",
    "score_shk - неизвестный индекс кредитоспособности\n",
    "    "
   ]
  },
  {
   "cell_type": "code",
   "execution_count": null,
   "metadata": {
    "collapsed": false
   },
   "outputs": [],
   "source": [
    "import numpy as np\n",
    "import pandas as pd\n",
    "import matplotlib.pyplot as plt\n",
    "%matplotlib inline\n",
    "\n",
    "from sklearn.pipeline import Pipeline\n",
    "from sklearn.linear_model import LinearRegression\n",
    "from sklearn.cross_validation import cross_val_score, train_test_split\n",
    "from sklearn.feature_extraction.text import TfidfVectorizer\n",
    "from sklearn import manifold, decomposition, linear_model, ensemble, neighbors, cross_validation"
   ]
  },
  {
   "cell_type": "code",
   "execution_count": null,
   "metadata": {
    "collapsed": false
   },
   "outputs": [],
   "source": [
    "train = pd.read_csv(\"../credit_train.csv\", sep = \";\", encoding='cp1251')\n",
    "test = pd.read_csv(\"../credit_test.csv\", sep = \";\", encoding='cp1251')"
   ]
  },
  {
   "cell_type": "code",
   "execution_count": null,
   "metadata": {
    "collapsed": false
   },
   "outputs": [],
   "source": [
    "train.head(2)"
   ]
  },
  {
   "cell_type": "code",
   "execution_count": null,
   "metadata": {
    "collapsed": false
   },
   "outputs": [],
   "source": [
    "y = train['open_account_flg']"
   ]
  },
  {
   "cell_type": "code",
   "execution_count": null,
   "metadata": {
    "collapsed": false
   },
   "outputs": [],
   "source": [
    "train.info()"
   ]
  },
  {
   "cell_type": "code",
   "execution_count": null,
   "metadata": {
    "collapsed": false
   },
   "outputs": [],
   "source": [
    "test.info()"
   ]
  },
  {
   "cell_type": "markdown",
   "metadata": {},
   "source": [
    "I работа с пропусками в данных"
   ]
  },
  {
   "cell_type": "code",
   "execution_count": null,
   "metadata": {
    "collapsed": false
   },
   "outputs": [],
   "source": [
    "train[train.monthly_income.isnull() == True]"
   ]
  },
  {
   "cell_type": "code",
   "execution_count": null,
   "metadata": {
    "collapsed": true
   },
   "outputs": [],
   "source": [
    "train.monthly_income.fillna(train.monthly_income.mean(), inplace=True)"
   ]
  },
  {
   "cell_type": "code",
   "execution_count": null,
   "metadata": {
    "collapsed": true
   },
   "outputs": [],
   "source": [
    "train.living_region.fillna(value=\"Unknown\", inplace=True)\n",
    "test.living_region.fillna(value=\"Unknown\", inplace=True)"
   ]
  },
  {
   "cell_type": "code",
   "execution_count": null,
   "metadata": {
    "collapsed": true
   },
   "outputs": [],
   "source": [
    "train.credit_count.fillna(value = train.credit_count.mean(), inplace=True)\n",
    "train.overdue_credit_count.fillna(value = train.overdue_credit_count.mean(), inplace=True)"
   ]
  },
  {
   "cell_type": "code",
   "execution_count": null,
   "metadata": {
    "collapsed": true
   },
   "outputs": [],
   "source": [
    "test.credit_count.fillna(value = train.credit_count.mean(), inplace=True)\n",
    "test.overdue_credit_count.fillna(value = train.overdue_credit_count.mean(), inplace=True)"
   ]
  },
  {
   "cell_type": "code",
   "execution_count": null,
   "metadata": {
    "collapsed": false
   },
   "outputs": [],
   "source": [
    "train.job_position.unique()"
   ]
  },
  {
   "cell_type": "code",
   "execution_count": null,
   "metadata": {
    "collapsed": false
   },
   "outputs": [],
   "source": [
    "train.marital_status.unique()"
   ]
  },
  {
   "cell_type": "code",
   "execution_count": null,
   "metadata": {
    "collapsed": false
   },
   "outputs": [],
   "source": [
    "train.groupby(\"job_position\").target.mean()"
   ]
  },
  {
   "cell_type": "code",
   "execution_count": null,
   "metadata": {
    "collapsed": false
   },
   "outputs": [],
   "source": [
    "train.groupby(\"education\").target.mean()"
   ]
  },
  {
   "cell_type": "code",
   "execution_count": null,
   "metadata": {
    "collapsed": false
   },
   "outputs": [],
   "source": [
    "train.groupby(\"marital_status\").target.mean()"
   ]
  },
  {
   "cell_type": "code",
   "execution_count": null,
   "metadata": {
    "collapsed": false
   },
   "outputs": [],
   "source": [
    "train.groupby(\"tariff_id\").target.mean()"
   ]
  },
  {
   "cell_type": "code",
   "execution_count": null,
   "metadata": {
    "collapsed": false
   },
   "outputs": [],
   "source": [
    "test[test.job_position == \"INV\"]"
   ]
  },
  {
   "cell_type": "code",
   "execution_count": null,
   "metadata": {
    "collapsed": false
   },
   "outputs": [],
   "source": [
    "train.gender = train.gender.map({\"M\":1, \"F\":0})\n",
    "test.gender = test.gender.map({\"M\":1, \"F\":0})\n",
    "\n",
    "train.rename(columns={\"open_account_flg\":\"target\"}, inplace=True)"
   ]
  },
  {
   "cell_type": "markdown",
   "metadata": {
    "collapsed": true
   },
   "source": [
    "II сделать сбалансированные классы"
   ]
  },
  {
   "cell_type": "code",
   "execution_count": null,
   "metadata": {
    "collapsed": false
   },
   "outputs": [],
   "source": [
    "count_to_add = abs (np.sum(train.target == 1) - np.sum(train.target == 0))\n",
    "indices_to_add = np.random.randint(np.sum(train.target == 1), size = count_to_add)\n",
    "train_to_add = pd.DataFrame(data = train.values[train.target.as_matrix() == 1][indices_to_add,:],\n",
    "                            columns=train.columns)\n",
    "train = pd.concat([train, train_to_add], axis=0)\n",
    "y = train.target"
   ]
  },
  {
   "cell_type": "markdown",
   "metadata": {},
   "source": [
    "II выделим группы людей по наличию высшего образования, работе и пенсии "
   ]
  },
  {
   "cell_type": "code",
   "execution_count": null,
   "metadata": {
    "collapsed": false
   },
   "outputs": [],
   "source": [
    "### по образованию\n",
    "train[\"high_edu\"] = ((train[\"education\"] != \"SCH\") & (train[\"education\"] != \"UGR\"))\n",
    "\n",
    "### по работе\n",
    "# 1. не работающие граждание\n",
    "train[\"not_work\"] = ((train.job_position == \"HSK\") | (train.job_position == \"INV\") \n",
    "                     | (train.job_position == \"NOR\") | (train.job_position == \"PNS\"))\n",
    "\n",
    "# 2. обычные работники\n",
    "train[\"usual_workers\"] = ((train.job_position == \"SPC\") | (train.job_position == \"WOI\") \n",
    "                     | (train.job_position == \"WRK\") | (train.job_position == \"ATP\") \n",
    "                     | (train.job_position == \"WRP\"))\n",
    "\n",
    "# 3. начальники\n",
    "train[\"head_workers\"] = ((train.job_position == \"DIR\") | (train.job_position == \"UMN\")\n",
    "                         | (train.job_position == \"BIS\") | (train.job_position == \"INP\"))\n",
    "\n",
    "# 4. имеют собственный бизнес\n",
    "train[\"have_business\"] = ((train.job_position == \"BIS\") | (train.job_position == \"INP\"))\n",
    "\n",
    "### по браку\n",
    "train[\"single\"] = ((train.marital_status == \"UNM\") | (train.marital_status == \"DIV\")\n",
    "                   | (train.marital_status == \"WID\"))"
   ]
  },
  {
   "cell_type": "code",
   "execution_count": null,
   "metadata": {
    "collapsed": true
   },
   "outputs": [],
   "source": [
    "### по образованию\n",
    "test[\"high_edu\"] = ((test[\"education\"] != \"SCH\") & (test[\"education\"] != \"UGR\"))\n",
    "\n",
    "### по работе\n",
    "# 1. не работающие граждание\n",
    "test[\"not_work\"] = ((test.job_position == \"HSK\") | (test.job_position == \"INV\") \n",
    "                     | (test.job_position == \"NOR\") | (test.job_position == \"PNS\"))\n",
    "\n",
    "# 2. обычные работники\n",
    "test[\"usual_workers\"] = ((test.job_position == \"SPC\") | (test.job_position == \"WOI\") \n",
    "                     | (test.job_position == \"WRK\") | (test.job_position == \"ATP\") \n",
    "                     | (test.job_position == \"WRP\"))\n",
    "\n",
    "# 3. начальники\n",
    "test[\"head_workers\"] = ((test.job_position == \"DIR\") | (test.job_position == \"UMN\")\n",
    "                         | (test.job_position == \"BIS\") | (test.job_position == \"INP\"))\n",
    "\n",
    "# 4. имеют собственный бизнес\n",
    "test[\"have_business\"] = ((test.job_position == \"BIS\") | (test.job_position == \"INP\"))\n",
    "\n",
    "### по браку\n",
    "test[\"single\"] = ((test.marital_status == \"UNM\") | (test.marital_status == \"DIV\")\n",
    "                   | (test.marital_status == \"WID\"))"
   ]
  },
  {
   "cell_type": "markdown",
   "metadata": {},
   "source": [
    "III кодировка категориальных признаков, кроме living region"
   ]
  },
  {
   "cell_type": "code",
   "execution_count": null,
   "metadata": {
    "collapsed": true
   },
   "outputs": [],
   "source": [
    "train_col = train.columns.drop(\"target\")\n",
    "dummy_df = pd.concat([train[train_col], test], axis=0)\n",
    "dummy_df = pd.get_dummies(dummy_df, columns=[\"education\",\"job_position\", \"marital_status\"], drop_first=True)\n",
    "train = dummy_df[:train.shape[0]]\n",
    "test = dummy_df[train.shape[0]:]"
   ]
  },
  {
   "cell_type": "code",
   "execution_count": null,
   "metadata": {
    "collapsed": false
   },
   "outputs": [],
   "source": [
    "train.columns"
   ]
  },
  {
   "cell_type": "markdown",
   "metadata": {},
   "source": [
    "IV кодировка региона через среднюю зарплату"
   ]
  },
  {
   "cell_type": "code",
   "execution_count": null,
   "metadata": {
    "collapsed": true
   },
   "outputs": [],
   "source": [
    "def code_mean(data, cat_feature, real_feature):\n",
    "    return (data[cat_feature].map(data.groupby(cat_feature)[real_feature].mean()))"
   ]
  },
  {
   "cell_type": "code",
   "execution_count": null,
   "metadata": {
    "collapsed": false
   },
   "outputs": [],
   "source": [
    "train['monthly_income'] = train['monthly_income'].astype(float)\n",
    "test['monthly_income'] = test['monthly_income'].astype(float)\n",
    "\n",
    "train[\"city_mean_income\"] = code_mean(train, 'living_region', 'monthly_income')\n",
    "train.city_mean_income.fillna(value=train.city_mean_income.mean(), inplace=True)\n",
    "train.drop(\"living_region\", axis=1, inplace=True)\n",
    "\n",
    "test[\"city_mean_income\"] = code_mean(test, 'living_region', 'monthly_income')\n",
    "test.city_mean_income.fillna(value=train.city_mean_income.mean(), inplace=True)\n",
    "test.drop(\"living_region\", axis=1, inplace=True)"
   ]
  },
  {
   "cell_type": "markdown",
   "metadata": {},
   "source": [
    "V Генерация данных о зарплате и выплатам по кредиту"
   ]
  },
  {
   "cell_type": "code",
   "execution_count": null,
   "metadata": {
    "collapsed": false
   },
   "outputs": [],
   "source": [
    "train['credit_sum'] = train['credit_sum'].apply(lambda x: x.replace(\",\",\".\"))\n",
    "test['credit_sum'] = test['credit_sum'].apply(lambda x: x.replace(\",\",\".\"))\n",
    "\n",
    "train['credit_sum'] = train['credit_sum'].astype(float)\n",
    "test['credit_sum'] = test['credit_sum'].astype(float)"
   ]
  },
  {
   "cell_type": "markdown",
   "metadata": {},
   "source": [
    "credit_pay - ежемесячный расход на кредит\n",
    "\n",
    "money_for_life - разность между зп и платой по кредиту\n",
    "\n",
    "dif_city - разница между зп и средней зп по региону"
   ]
  },
  {
   "cell_type": "code",
   "execution_count": null,
   "metadata": {
    "collapsed": false
   },
   "outputs": [],
   "source": [
    "train[\"credit_pay\"] = train[\"credit_sum\"] / train[\"credit_month\"]\n",
    "train[\"money_for_life\"] = train[\"monthly_income\"] - train[\"credit_pay\"]\n",
    "train[\"dif_city\"] = train[\"monthly_income\"] - train[\"city_mean_income\"]\n",
    "\n",
    "test[\"credit_pay\"] = test[\"credit_sum\"] / test[\"credit_month\"]\n",
    "test[\"money_for_life\"] = test[\"monthly_income\"] - test[\"credit_pay\"]\n",
    "test[\"dif_city\"] = test[\"monthly_income\"] - test[\"city_mean_income\"]"
   ]
  },
  {
   "cell_type": "markdown",
   "metadata": {},
   "source": [
    "VI анализ score_shk"
   ]
  },
  {
   "cell_type": "code",
   "execution_count": null,
   "metadata": {
    "collapsed": false
   },
   "outputs": [],
   "source": [
    "train['score_shk'] = train['score_shk'].apply(lambda x: x.replace(\",\",\".\"))\n",
    "test['score_shk'] = test['score_shk'].apply(lambda x: x.replace(\",\",\".\"))\n",
    "\n",
    "train['score_shk'] = train['score_shk'].astype(float)\n",
    "test['score_shk'] = test['score_shk'].astype(float)"
   ]
  },
  {
   "cell_type": "code",
   "execution_count": null,
   "metadata": {
    "collapsed": false,
    "scrolled": true
   },
   "outputs": [],
   "source": [
    "train['target'] = y"
   ]
  },
  {
   "cell_type": "code",
   "execution_count": null,
   "metadata": {
    "collapsed": false
   },
   "outputs": [],
   "source": [
    "train.info()"
   ]
  },
  {
   "cell_type": "code",
   "execution_count": null,
   "metadata": {
    "collapsed": false
   },
   "outputs": [],
   "source": [
    "test.info()"
   ]
  },
  {
   "cell_type": "code",
   "execution_count": null,
   "metadata": {
    "collapsed": true
   },
   "outputs": [],
   "source": [
    "train.to_csv(\"train_random_oversampling.csv\", columns=train.columns, index=False)\n",
    "test.to_csv(\"test.csv\", columns=test.columns, index=False)"
   ]
  },
  {
   "cell_type": "code",
   "execution_count": null,
   "metadata": {
    "collapsed": true
   },
   "outputs": [],
   "source": []
  }
 ],
 "metadata": {
  "anaconda-cloud": {},
  "kernelspec": {
   "display_name": "Python 3",
   "language": "python",
   "name": "python3"
  },
  "language_info": {
   "codemirror_mode": {
    "name": "ipython",
    "version": 3
   },
   "file_extension": ".py",
   "mimetype": "text/x-python",
   "name": "python",
   "nbconvert_exporter": "python",
   "pygments_lexer": "ipython3",
   "version": "3.6.0"
  }
 },
 "nbformat": 4,
 "nbformat_minor": 1
}
