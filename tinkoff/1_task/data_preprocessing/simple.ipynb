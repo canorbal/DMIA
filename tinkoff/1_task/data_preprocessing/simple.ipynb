{
 "cells": [
  {
   "cell_type": "code",
   "execution_count": null,
   "metadata": {
    "collapsed": false
   },
   "outputs": [],
   "source": [
    "import numpy as np\n",
    "import pandas as pd\n",
    "import matplotlib.pyplot as plt\n",
    "%matplotlib inline\n",
    "\n",
    "from sklearn.pipeline import Pipeline\n",
    "from sklearn.linear_model import LinearRegression\n",
    "from sklearn.cross_validation import cross_val_score, train_test_split\n",
    "from sklearn.feature_extraction.text import TfidfVectorizer\n",
    "from sklearn import manifold, decomposition, linear_model, ensemble, neighbors, cross_validation"
   ]
  },
  {
   "cell_type": "code",
   "execution_count": 2,
   "metadata": {
    "collapsed": false
   },
   "outputs": [],
   "source": [
    "train = pd.read_csv(\"../credit_train.csv\", sep = \";\", encoding='cp1251')\n",
    "test = pd.read_csv(\"../credit_test.csv\", sep = \";\", encoding='cp1251')"
   ]
  },
  {
   "cell_type": "code",
   "execution_count": 3,
   "metadata": {
    "collapsed": false
   },
   "outputs": [
    {
     "data": {
      "text/html": [
       "<div>\n",
       "<table border=\"1\" class=\"dataframe\">\n",
       "  <thead>\n",
       "    <tr style=\"text-align: right;\">\n",
       "      <th></th>\n",
       "      <th>client_id</th>\n",
       "      <th>gender</th>\n",
       "      <th>age</th>\n",
       "      <th>marital_status</th>\n",
       "      <th>job_position</th>\n",
       "      <th>credit_sum</th>\n",
       "      <th>credit_month</th>\n",
       "      <th>tariff_id</th>\n",
       "      <th>score_shk</th>\n",
       "      <th>education</th>\n",
       "      <th>living_region</th>\n",
       "      <th>monthly_income</th>\n",
       "      <th>credit_count</th>\n",
       "      <th>overdue_credit_count</th>\n",
       "      <th>open_account_flg</th>\n",
       "    </tr>\n",
       "  </thead>\n",
       "  <tbody>\n",
       "    <tr>\n",
       "      <th>0</th>\n",
       "      <td>1</td>\n",
       "      <td>M</td>\n",
       "      <td>48</td>\n",
       "      <td>MAR</td>\n",
       "      <td>UMN</td>\n",
       "      <td>59998,00</td>\n",
       "      <td>10</td>\n",
       "      <td>1.6</td>\n",
       "      <td>0,770249</td>\n",
       "      <td>GRD</td>\n",
       "      <td>КРАСНОДАРСКИЙ КРАЙ</td>\n",
       "      <td>30000.0</td>\n",
       "      <td>1.0</td>\n",
       "      <td>1.0</td>\n",
       "      <td>0</td>\n",
       "    </tr>\n",
       "    <tr>\n",
       "      <th>1</th>\n",
       "      <td>2</td>\n",
       "      <td>F</td>\n",
       "      <td>28</td>\n",
       "      <td>MAR</td>\n",
       "      <td>UMN</td>\n",
       "      <td>10889,00</td>\n",
       "      <td>6</td>\n",
       "      <td>1.1</td>\n",
       "      <td>0,248514</td>\n",
       "      <td>GRD</td>\n",
       "      <td>МОСКВА</td>\n",
       "      <td>43000.0</td>\n",
       "      <td>2.0</td>\n",
       "      <td>0.0</td>\n",
       "      <td>0</td>\n",
       "    </tr>\n",
       "  </tbody>\n",
       "</table>\n",
       "</div>"
      ],
      "text/plain": [
       "   client_id gender  age marital_status job_position credit_sum  credit_month  \\\n",
       "0          1      M   48            MAR          UMN   59998,00            10   \n",
       "1          2      F   28            MAR          UMN   10889,00             6   \n",
       "\n",
       "   tariff_id score_shk education       living_region  monthly_income  \\\n",
       "0        1.6  0,770249       GRD  КРАСНОДАРСКИЙ КРАЙ         30000.0   \n",
       "1        1.1  0,248514       GRD              МОСКВА         43000.0   \n",
       "\n",
       "   credit_count  overdue_credit_count  open_account_flg  \n",
       "0           1.0                   1.0                 0  \n",
       "1           2.0                   0.0                 0  "
      ]
     },
     "execution_count": 3,
     "metadata": {},
     "output_type": "execute_result"
    }
   ],
   "source": [
    "train.head(2)"
   ]
  },
  {
   "cell_type": "code",
   "execution_count": 4,
   "metadata": {
    "collapsed": false
   },
   "outputs": [],
   "source": [
    "y = train['open_account_flg']"
   ]
  },
  {
   "cell_type": "code",
   "execution_count": 5,
   "metadata": {
    "collapsed": false
   },
   "outputs": [
    {
     "name": "stdout",
     "output_type": "stream",
     "text": [
      "<class 'pandas.core.frame.DataFrame'>\n",
      "RangeIndex: 170746 entries, 0 to 170745\n",
      "Data columns (total 15 columns):\n",
      "client_id               170746 non-null int64\n",
      "gender                  170746 non-null object\n",
      "age                     170746 non-null int64\n",
      "marital_status          170746 non-null object\n",
      "job_position            170746 non-null object\n",
      "credit_sum              170746 non-null object\n",
      "credit_month            170746 non-null int64\n",
      "tariff_id               170746 non-null float64\n",
      "score_shk               170746 non-null object\n",
      "education               170746 non-null object\n",
      "living_region           170554 non-null object\n",
      "monthly_income          170745 non-null float64\n",
      "credit_count            161516 non-null float64\n",
      "overdue_credit_count    161516 non-null float64\n",
      "open_account_flg        170746 non-null int64\n",
      "dtypes: float64(4), int64(4), object(7)\n",
      "memory usage: 19.5+ MB\n"
     ]
    }
   ],
   "source": [
    "train.info()"
   ]
  },
  {
   "cell_type": "code",
   "execution_count": 6,
   "metadata": {
    "collapsed": false
   },
   "outputs": [
    {
     "name": "stdout",
     "output_type": "stream",
     "text": [
      "<class 'pandas.core.frame.DataFrame'>\n",
      "RangeIndex: 91940 entries, 0 to 91939\n",
      "Data columns (total 14 columns):\n",
      "client_id               91940 non-null int64\n",
      "gender                  91940 non-null object\n",
      "age                     91940 non-null int64\n",
      "marital_status          91940 non-null object\n",
      "job_position            91940 non-null object\n",
      "credit_sum              91940 non-null object\n",
      "credit_month            91940 non-null int64\n",
      "tariff_id               91940 non-null float64\n",
      "score_shk               91940 non-null object\n",
      "education               91940 non-null object\n",
      "living_region           91824 non-null object\n",
      "monthly_income          91940 non-null int64\n",
      "credit_count            87237 non-null float64\n",
      "overdue_credit_count    87237 non-null float64\n",
      "dtypes: float64(3), int64(4), object(7)\n",
      "memory usage: 9.8+ MB\n"
     ]
    }
   ],
   "source": [
    "test.info()"
   ]
  },
  {
   "cell_type": "markdown",
   "metadata": {},
   "source": [
    "I работа с пропусками в данных"
   ]
  },
  {
   "cell_type": "code",
   "execution_count": 7,
   "metadata": {
    "collapsed": false
   },
   "outputs": [
    {
     "data": {
      "text/html": [
       "<div>\n",
       "<table border=\"1\" class=\"dataframe\">\n",
       "  <thead>\n",
       "    <tr style=\"text-align: right;\">\n",
       "      <th></th>\n",
       "      <th>client_id</th>\n",
       "      <th>gender</th>\n",
       "      <th>age</th>\n",
       "      <th>marital_status</th>\n",
       "      <th>job_position</th>\n",
       "      <th>credit_sum</th>\n",
       "      <th>credit_month</th>\n",
       "      <th>tariff_id</th>\n",
       "      <th>score_shk</th>\n",
       "      <th>education</th>\n",
       "      <th>living_region</th>\n",
       "      <th>monthly_income</th>\n",
       "      <th>credit_count</th>\n",
       "      <th>overdue_credit_count</th>\n",
       "      <th>open_account_flg</th>\n",
       "    </tr>\n",
       "  </thead>\n",
       "  <tbody>\n",
       "    <tr>\n",
       "      <th>19639</th>\n",
       "      <td>19640</td>\n",
       "      <td>F</td>\n",
       "      <td>33</td>\n",
       "      <td>MAR</td>\n",
       "      <td>BIS</td>\n",
       "      <td>13009,00</td>\n",
       "      <td>10</td>\n",
       "      <td>1.6</td>\n",
       "      <td>0,535834</td>\n",
       "      <td>SCH</td>\n",
       "      <td>ПРИМОРСКИЙ КРАЙ</td>\n",
       "      <td>NaN</td>\n",
       "      <td>2.0</td>\n",
       "      <td>0.0</td>\n",
       "      <td>0</td>\n",
       "    </tr>\n",
       "  </tbody>\n",
       "</table>\n",
       "</div>"
      ],
      "text/plain": [
       "       client_id gender  age marital_status job_position credit_sum  \\\n",
       "19639      19640      F   33            MAR          BIS   13009,00   \n",
       "\n",
       "       credit_month  tariff_id score_shk education    living_region  \\\n",
       "19639            10        1.6  0,535834       SCH  ПРИМОРСКИЙ КРАЙ   \n",
       "\n",
       "       monthly_income  credit_count  overdue_credit_count  open_account_flg  \n",
       "19639             NaN           2.0                   0.0                 0  "
      ]
     },
     "execution_count": 7,
     "metadata": {},
     "output_type": "execute_result"
    }
   ],
   "source": [
    "train[train.monthly_income.isnull()]"
   ]
  },
  {
   "cell_type": "code",
   "execution_count": 8,
   "metadata": {
    "collapsed": true
   },
   "outputs": [],
   "source": [
    "train.monthly_income.fillna(value=train.monthly_income.mean(), inplace=True)"
   ]
  },
  {
   "cell_type": "code",
   "execution_count": 9,
   "metadata": {
    "collapsed": false
   },
   "outputs": [],
   "source": [
    "city_train = pd.read_csv(\"../datasets/credit_train_clean.csv\")\n",
    "city_test = pd.read_csv(\"../datasets/credit_test_clean.csv\")\n",
    "\n",
    "train.living_region = city_train.living_region\n",
    "test.living_region = city_test.living_region"
   ]
  },
  {
   "cell_type": "code",
   "execution_count": 11,
   "metadata": {
    "collapsed": true
   },
   "outputs": [],
   "source": [
    "train.credit_count.fillna(value = train.credit_count.mean(), inplace=True)\n",
    "train.overdue_credit_count.fillna(value = train.overdue_credit_count.mean(), inplace=True)"
   ]
  },
  {
   "cell_type": "code",
   "execution_count": 12,
   "metadata": {
    "collapsed": true
   },
   "outputs": [],
   "source": [
    "test.credit_count.fillna(value = train.credit_count.mean(), inplace=True)\n",
    "test.overdue_credit_count.fillna(value = train.overdue_credit_count.mean(), inplace=True)"
   ]
  },
  {
   "cell_type": "code",
   "execution_count": null,
   "metadata": {
    "collapsed": true
   },
   "outputs": [],
   "source": []
  },
  {
   "cell_type": "code",
   "execution_count": 13,
   "metadata": {
    "collapsed": false
   },
   "outputs": [],
   "source": [
    "train.gender = train.gender.map({\"M\":1, \"F\":0})\n",
    "test.gender = test.gender.map({\"M\":1, \"F\":0})\n",
    "train.rename(columns={\"open_account_flg\":\"target\"}, inplace=True)"
   ]
  },
  {
   "cell_type": "markdown",
   "metadata": {},
   "source": [
    "II кодировка категориальных признаков"
   ]
  },
  {
   "cell_type": "code",
   "execution_count": 15,
   "metadata": {
    "collapsed": true
   },
   "outputs": [],
   "source": [
    "train_col = train.columns.drop(\"target\")\n",
    "dummy_df = pd.concat([train[train_col], test], axis=0)\n",
    "dummy_df = pd.get_dummies(dummy_df, columns=[\"education\",\"job_position\",\\\n",
    "                                             \"marital_status\", \"living_region\"], drop_first=True)\n",
    "train = dummy_df[:train.shape[0]]\n",
    "test = dummy_df[train.shape[0]:]"
   ]
  },
  {
   "cell_type": "code",
   "execution_count": 16,
   "metadata": {
    "collapsed": false
   },
   "outputs": [
    {
     "data": {
      "text/plain": [
       "Index(['client_id', 'gender', 'age', 'credit_sum', 'credit_month', 'tariff_id',\n",
       "       'score_shk', 'monthly_income', 'credit_count', 'overdue_credit_count',\n",
       "       ...\n",
       "       'living_region_ХАКАСИЯ', 'living_region_ХАНТЫ-МАНСИЙСКИЙ',\n",
       "       'living_region_ЧЕЛЯБИНСКАЯ', 'living_region_ЧЕЧЕНСКАЯ',\n",
       "       'living_region_ЧИТИНСКАЯ', 'living_region_ЧУВАШСКАЯ',\n",
       "       'living_region_ЧУКОТСКИЙ', 'living_region_ЭВЕНКИЙСКИЙ',\n",
       "       'living_region_ЯМАЛО-НЕНЕЦКИЙ', 'living_region_ЯРОСЛАВСКАЯ'],\n",
       "      dtype='object', length=117)"
      ]
     },
     "execution_count": 16,
     "metadata": {},
     "output_type": "execute_result"
    }
   ],
   "source": [
    "train.columns"
   ]
  },
  {
   "cell_type": "code",
   "execution_count": null,
   "metadata": {
    "collapsed": false
   },
   "outputs": [],
   "source": [
    "train['monthly_income'] = train['monthly_income'].astype(float)\n",
    "test['monthly_income'] = test['monthly_income'].astype(float)"
   ]
  },
  {
   "cell_type": "markdown",
   "metadata": {},
   "source": [
    "V Генерация данных о зарплате и выплатам по кредиту"
   ]
  },
  {
   "cell_type": "code",
   "execution_count": null,
   "metadata": {
    "collapsed": false
   },
   "outputs": [],
   "source": [
    "tmp = train['credit_sum'].apply(lambda x: x.replace(\",\",\".\"))\n",
    "train['credit_sum'] = tmp\n",
    "tmp = test['credit_sum'].apply(lambda x: x.replace(\",\",\".\"))\n",
    "test['credit_sum'] = tmp"
   ]
  },
  {
   "cell_type": "markdown",
   "metadata": {},
   "source": [
    "VI анализ score_shk"
   ]
  },
  {
   "cell_type": "code",
   "execution_count": null,
   "metadata": {
    "collapsed": false
   },
   "outputs": [],
   "source": [
    "tmp = train['score_shk'].apply(lambda x: x.replace(\",\",\".\"))\n",
    "train.score_shk = tmp\n",
    "\n",
    "tmp = test['score_shk'].apply(lambda x: x.replace(\",\",\".\"))\n",
    "test.score_shk = tmp\n",
    "\n",
    "train['score_shk'] = train['score_shk'].astype(float)\n",
    "test['score_shk'] = test['score_shk'].astype(float)"
   ]
  },
  {
   "cell_type": "code",
   "execution_count": null,
   "metadata": {
    "collapsed": false
   },
   "outputs": [],
   "source": [
    "train['target'] = y"
   ]
  },
  {
   "cell_type": "code",
   "execution_count": 28,
   "metadata": {
    "collapsed": false
   },
   "outputs": [
    {
     "name": "stdout",
     "output_type": "stream",
     "text": [
      "<class 'pandas.core.frame.DataFrame'>\n",
      "Int64Index: 170746 entries, 0 to 170745\n",
      "Columns: 353 entries, client_id to target\n",
      "dtypes: float64(5), int64(5), object(1), uint8(342)\n",
      "memory usage: 71.3+ MB\n"
     ]
    }
   ],
   "source": [
    "train.info()"
   ]
  },
  {
   "cell_type": "code",
   "execution_count": 29,
   "metadata": {
    "collapsed": false
   },
   "outputs": [
    {
     "name": "stdout",
     "output_type": "stream",
     "text": [
      "<class 'pandas.core.frame.DataFrame'>\n",
      "Int64Index: 91940 entries, 0 to 91939\n",
      "Columns: 352 entries, client_id to living_region_ЯРОСЛАВСКАЯ ОБЛАСТЬ\n",
      "dtypes: float64(5), int64(4), object(1), uint8(342)\n",
      "memory usage: 37.7+ MB\n"
     ]
    }
   ],
   "source": [
    "test.info()"
   ]
  },
  {
   "cell_type": "code",
   "execution_count": 30,
   "metadata": {
    "collapsed": true
   },
   "outputs": [],
   "source": [
    "train.to_csv(\"../datasets/train_simple_without_oversampling.csv\", columns=train.columns, index=False)\n",
    "test.to_csv(\"../datasets/test_simple_without_oversampling.csv\", columns=test.columns, index=False)"
   ]
  },
  {
   "cell_type": "code",
   "execution_count": null,
   "metadata": {
    "collapsed": true
   },
   "outputs": [],
   "source": []
  }
 ],
 "metadata": {
  "anaconda-cloud": {},
  "kernelspec": {
   "display_name": "Python 3",
   "language": "python",
   "name": "python3"
  },
  "language_info": {
   "codemirror_mode": {
    "name": "ipython",
    "version": 3
   },
   "file_extension": ".py",
   "mimetype": "text/x-python",
   "name": "python",
   "nbconvert_exporter": "python",
   "pygments_lexer": "ipython3",
   "version": "3.6.0"
  }
 },
 "nbformat": 4,
 "nbformat_minor": 1
}
