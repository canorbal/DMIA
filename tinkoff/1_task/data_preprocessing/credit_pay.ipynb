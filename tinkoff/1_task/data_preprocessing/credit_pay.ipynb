{
 "cells": [
  {
   "cell_type": "code",
   "execution_count": null,
   "metadata": {
    "collapsed": false
   },
   "outputs": [],
   "source": [
    "import numpy as np\n",
    "import pandas as pd\n",
    "import matplotlib.pyplot as plt\n",
    "%matplotlib inline\n",
    "\n",
    "from sklearn.pipeline import Pipeline\n",
    "from sklearn.linear_model import LinearRegression\n",
    "from sklearn.cross_validation import cross_val_score, train_test_split\n",
    "from sklearn.feature_extraction.text import TfidfVectorizer\n",
    "from sklearn import manifold, decomposition, linear_model, ensemble, neighbors, cross_validation"
   ]
  },
  {
   "cell_type": "code",
   "execution_count": 2,
   "metadata": {
    "collapsed": false
   },
   "outputs": [],
   "source": [
    "train = pd.read_csv(\"../credit_train.csv\", sep = \";\", encoding='cp1251')\n",
    "test = pd.read_csv(\"../credit_test.csv\", sep = \";\", encoding='cp1251')"
   ]
  },
  {
   "cell_type": "code",
   "execution_count": 3,
   "metadata": {
    "collapsed": false
   },
   "outputs": [
    {
     "data": {
      "text/html": [
       "<div>\n",
       "<table border=\"1\" class=\"dataframe\">\n",
       "  <thead>\n",
       "    <tr style=\"text-align: right;\">\n",
       "      <th></th>\n",
       "      <th>client_id</th>\n",
       "      <th>gender</th>\n",
       "      <th>age</th>\n",
       "      <th>marital_status</th>\n",
       "      <th>job_position</th>\n",
       "      <th>credit_sum</th>\n",
       "      <th>credit_month</th>\n",
       "      <th>tariff_id</th>\n",
       "      <th>score_shk</th>\n",
       "      <th>education</th>\n",
       "      <th>living_region</th>\n",
       "      <th>monthly_income</th>\n",
       "      <th>credit_count</th>\n",
       "      <th>overdue_credit_count</th>\n",
       "      <th>open_account_flg</th>\n",
       "    </tr>\n",
       "  </thead>\n",
       "  <tbody>\n",
       "    <tr>\n",
       "      <th>0</th>\n",
       "      <td>1</td>\n",
       "      <td>M</td>\n",
       "      <td>48</td>\n",
       "      <td>MAR</td>\n",
       "      <td>UMN</td>\n",
       "      <td>59998,00</td>\n",
       "      <td>10</td>\n",
       "      <td>1.6</td>\n",
       "      <td>0,770249</td>\n",
       "      <td>GRD</td>\n",
       "      <td>КРАСНОДАРСКИЙ КРАЙ</td>\n",
       "      <td>30000.0</td>\n",
       "      <td>1.0</td>\n",
       "      <td>1.0</td>\n",
       "      <td>0</td>\n",
       "    </tr>\n",
       "    <tr>\n",
       "      <th>1</th>\n",
       "      <td>2</td>\n",
       "      <td>F</td>\n",
       "      <td>28</td>\n",
       "      <td>MAR</td>\n",
       "      <td>UMN</td>\n",
       "      <td>10889,00</td>\n",
       "      <td>6</td>\n",
       "      <td>1.1</td>\n",
       "      <td>0,248514</td>\n",
       "      <td>GRD</td>\n",
       "      <td>МОСКВА</td>\n",
       "      <td>43000.0</td>\n",
       "      <td>2.0</td>\n",
       "      <td>0.0</td>\n",
       "      <td>0</td>\n",
       "    </tr>\n",
       "  </tbody>\n",
       "</table>\n",
       "</div>"
      ],
      "text/plain": [
       "   client_id gender  age marital_status job_position credit_sum  credit_month  \\\n",
       "0          1      M   48            MAR          UMN   59998,00            10   \n",
       "1          2      F   28            MAR          UMN   10889,00             6   \n",
       "\n",
       "   tariff_id score_shk education       living_region  monthly_income  \\\n",
       "0        1.6  0,770249       GRD  КРАСНОДАРСКИЙ КРАЙ         30000.0   \n",
       "1        1.1  0,248514       GRD              МОСКВА         43000.0   \n",
       "\n",
       "   credit_count  overdue_credit_count  open_account_flg  \n",
       "0           1.0                   1.0                 0  \n",
       "1           2.0                   0.0                 0  "
      ]
     },
     "execution_count": 3,
     "metadata": {},
     "output_type": "execute_result"
    }
   ],
   "source": [
    "train.head(2)"
   ]
  },
  {
   "cell_type": "code",
   "execution_count": 4,
   "metadata": {
    "collapsed": false
   },
   "outputs": [],
   "source": [
    "y = train['open_account_flg']"
   ]
  },
  {
   "cell_type": "code",
   "execution_count": 5,
   "metadata": {
    "collapsed": false
   },
   "outputs": [
    {
     "name": "stdout",
     "output_type": "stream",
     "text": [
      "<class 'pandas.core.frame.DataFrame'>\n",
      "RangeIndex: 170746 entries, 0 to 170745\n",
      "Data columns (total 15 columns):\n",
      "client_id               170746 non-null int64\n",
      "gender                  170746 non-null object\n",
      "age                     170746 non-null int64\n",
      "marital_status          170746 non-null object\n",
      "job_position            170746 non-null object\n",
      "credit_sum              170746 non-null object\n",
      "credit_month            170746 non-null int64\n",
      "tariff_id               170746 non-null float64\n",
      "score_shk               170746 non-null object\n",
      "education               170746 non-null object\n",
      "living_region           170554 non-null object\n",
      "monthly_income          170745 non-null float64\n",
      "credit_count            161516 non-null float64\n",
      "overdue_credit_count    161516 non-null float64\n",
      "open_account_flg        170746 non-null int64\n",
      "dtypes: float64(4), int64(4), object(7)\n",
      "memory usage: 19.5+ MB\n"
     ]
    }
   ],
   "source": [
    "train.info()"
   ]
  },
  {
   "cell_type": "code",
   "execution_count": 6,
   "metadata": {
    "collapsed": false
   },
   "outputs": [
    {
     "name": "stdout",
     "output_type": "stream",
     "text": [
      "<class 'pandas.core.frame.DataFrame'>\n",
      "RangeIndex: 91940 entries, 0 to 91939\n",
      "Data columns (total 14 columns):\n",
      "client_id               91940 non-null int64\n",
      "gender                  91940 non-null object\n",
      "age                     91940 non-null int64\n",
      "marital_status          91940 non-null object\n",
      "job_position            91940 non-null object\n",
      "credit_sum              91940 non-null object\n",
      "credit_month            91940 non-null int64\n",
      "tariff_id               91940 non-null float64\n",
      "score_shk               91940 non-null object\n",
      "education               91940 non-null object\n",
      "living_region           91824 non-null object\n",
      "monthly_income          91940 non-null int64\n",
      "credit_count            87237 non-null float64\n",
      "overdue_credit_count    87237 non-null float64\n",
      "dtypes: float64(3), int64(4), object(7)\n",
      "memory usage: 9.8+ MB\n"
     ]
    }
   ],
   "source": [
    "test.info()"
   ]
  },
  {
   "cell_type": "markdown",
   "metadata": {},
   "source": [
    "I работа с пропусками в данных"
   ]
  },
  {
   "cell_type": "code",
   "execution_count": 7,
   "metadata": {
    "collapsed": false
   },
   "outputs": [
    {
     "data": {
      "text/html": [
       "<div>\n",
       "<table border=\"1\" class=\"dataframe\">\n",
       "  <thead>\n",
       "    <tr style=\"text-align: right;\">\n",
       "      <th></th>\n",
       "      <th>client_id</th>\n",
       "      <th>gender</th>\n",
       "      <th>age</th>\n",
       "      <th>marital_status</th>\n",
       "      <th>job_position</th>\n",
       "      <th>credit_sum</th>\n",
       "      <th>credit_month</th>\n",
       "      <th>tariff_id</th>\n",
       "      <th>score_shk</th>\n",
       "      <th>education</th>\n",
       "      <th>living_region</th>\n",
       "      <th>monthly_income</th>\n",
       "      <th>credit_count</th>\n",
       "      <th>overdue_credit_count</th>\n",
       "      <th>open_account_flg</th>\n",
       "    </tr>\n",
       "  </thead>\n",
       "  <tbody>\n",
       "    <tr>\n",
       "      <th>19639</th>\n",
       "      <td>19640</td>\n",
       "      <td>F</td>\n",
       "      <td>33</td>\n",
       "      <td>MAR</td>\n",
       "      <td>BIS</td>\n",
       "      <td>13009,00</td>\n",
       "      <td>10</td>\n",
       "      <td>1.6</td>\n",
       "      <td>0,535834</td>\n",
       "      <td>SCH</td>\n",
       "      <td>ПРИМОРСКИЙ КРАЙ</td>\n",
       "      <td>NaN</td>\n",
       "      <td>2.0</td>\n",
       "      <td>0.0</td>\n",
       "      <td>0</td>\n",
       "    </tr>\n",
       "  </tbody>\n",
       "</table>\n",
       "</div>"
      ],
      "text/plain": [
       "       client_id gender  age marital_status job_position credit_sum  \\\n",
       "19639      19640      F   33            MAR          BIS   13009,00   \n",
       "\n",
       "       credit_month  tariff_id score_shk education    living_region  \\\n",
       "19639            10        1.6  0,535834       SCH  ПРИМОРСКИЙ КРАЙ   \n",
       "\n",
       "       monthly_income  credit_count  overdue_credit_count  open_account_flg  \n",
       "19639             NaN           2.0                   0.0                 0  "
      ]
     },
     "execution_count": 7,
     "metadata": {},
     "output_type": "execute_result"
    }
   ],
   "source": [
    "train[train.monthly_income.isnull()]"
   ]
  },
  {
   "cell_type": "code",
   "execution_count": 8,
   "metadata": {
    "collapsed": true
   },
   "outputs": [],
   "source": [
    "train.monthly_income.fillna(value=train.monthly_income.mean(), inplace=True)"
   ]
  },
  {
   "cell_type": "code",
   "execution_count": 9,
   "metadata": {
    "collapsed": false
   },
   "outputs": [],
   "source": [
    "city_train = pd.read_csv(\"../datasets/credit_train_clean.csv\")\n",
    "city_test = pd.read_csv(\"../datasets/credit_test_clean.csv\")\n",
    "\n",
    "train.living_region = city_train.living_region\n",
    "test.living_region = city_test.living_region"
   ]
  },
  {
   "cell_type": "code",
   "execution_count": 10,
   "metadata": {
    "collapsed": true
   },
   "outputs": [],
   "source": [
    "train.credit_count.fillna(value = train.credit_count.mean(), inplace=True)\n",
    "train.overdue_credit_count.fillna(value = train.overdue_credit_count.mean(), inplace=True)"
   ]
  },
  {
   "cell_type": "code",
   "execution_count": 11,
   "metadata": {
    "collapsed": true
   },
   "outputs": [],
   "source": [
    "test.credit_count.fillna(value = train.credit_count.mean(), inplace=True)\n",
    "test.overdue_credit_count.fillna(value = train.overdue_credit_count.mean(), inplace=True)"
   ]
  },
  {
   "cell_type": "code",
   "execution_count": null,
   "metadata": {
    "collapsed": true
   },
   "outputs": [],
   "source": []
  },
  {
   "cell_type": "code",
   "execution_count": 12,
   "metadata": {
    "collapsed": false
   },
   "outputs": [],
   "source": [
    "train.gender = train.gender.map({\"M\":1, \"F\":0})\n",
    "test.gender = test.gender.map({\"M\":1, \"F\":0})"
   ]
  },
  {
   "cell_type": "code",
   "execution_count": 13,
   "metadata": {
    "collapsed": true
   },
   "outputs": [],
   "source": [
    "train.rename(columns={\"open_account_flg\":\"target\"}, inplace=True)"
   ]
  },
  {
   "cell_type": "markdown",
   "metadata": {},
   "source": [
    "II кодировка категориальных признаков"
   ]
  },
  {
   "cell_type": "code",
   "execution_count": 14,
   "metadata": {
    "collapsed": true
   },
   "outputs": [],
   "source": [
    "job_position_dict = pd.DataFrame(train.groupby(\"job_position\").target.mean()).to_dict()\n",
    "train['job_position'] = train.job_position.map(job_position_dict[\"target\"])\n",
    "test['job_position'] = test.job_position.map(job_position_dict[\"target\"])\n",
    "\n",
    "marital_status_dict = pd.DataFrame(train.groupby(\"marital_status\").target.mean()).to_dict()\n",
    "train['marital_status'] = train.marital_status.map(marital_status_dict[\"target\"])\n",
    "test['marital_status'] = test.marital_status.map(marital_status_dict[\"target\"])\n",
    "\n",
    "edu_dict = pd.DataFrame(train.groupby(\"education\").target.mean()).to_dict()\n",
    "train['education'] = train.education.map(edu_dict[\"target\"])\n",
    "test['education'] = test.education.map(edu_dict[\"target\"])"
   ]
  },
  {
   "cell_type": "code",
   "execution_count": 15,
   "metadata": {
    "collapsed": false
   },
   "outputs": [],
   "source": [
    "train['monthly_income'] = train['monthly_income'].astype(float)\n",
    "test['monthly_income'] = test['monthly_income'].astype(float)"
   ]
  },
  {
   "cell_type": "code",
   "execution_count": 16,
   "metadata": {
    "collapsed": true
   },
   "outputs": [],
   "source": [
    "income_region = pd.concat([train[[\"monthly_income\", \"living_region\"]],\\\n",
    "                           test[[\"monthly_income\", \"living_region\"]]], axis=0)\n",
    "\n",
    "income_dict = pd.DataFrame(income_region.groupby(\"living_region\").monthly_income.mean()).to_dict()\n",
    "train.living_region = train.living_region.map(income_dict[\"monthly_income\"])\n",
    "test.living_region = test.living_region.map(income_dict[\"monthly_income\"])"
   ]
  },
  {
   "cell_type": "markdown",
   "metadata": {},
   "source": [
    "V Генерация данных о зарплате и выплатам по кредиту"
   ]
  },
  {
   "cell_type": "code",
   "execution_count": 17,
   "metadata": {
    "collapsed": false
   },
   "outputs": [],
   "source": [
    "tmp = train['credit_sum'].apply(lambda x: x.replace(\",\",\".\"))\n",
    "train['credit_sum'] = tmp\n",
    "tmp = test['credit_sum'].apply(lambda x: x.replace(\",\",\".\"))\n",
    "test['credit_sum'] = tmp\n",
    "\n",
    "train['credit_sum'] = train['credit_sum'].astype(float)\n",
    "test['credit_sum'] = test['credit_sum'].astype(float)"
   ]
  },
  {
   "cell_type": "code",
   "execution_count": 18,
   "metadata": {
    "collapsed": false
   },
   "outputs": [
    {
     "data": {
      "text/html": [
       "<div>\n",
       "<table border=\"1\" class=\"dataframe\">\n",
       "  <thead>\n",
       "    <tr style=\"text-align: right;\">\n",
       "      <th></th>\n",
       "      <th>client_id</th>\n",
       "      <th>gender</th>\n",
       "      <th>age</th>\n",
       "      <th>marital_status</th>\n",
       "      <th>job_position</th>\n",
       "      <th>credit_sum</th>\n",
       "      <th>credit_month</th>\n",
       "      <th>tariff_id</th>\n",
       "      <th>score_shk</th>\n",
       "      <th>education</th>\n",
       "      <th>living_region</th>\n",
       "      <th>monthly_income</th>\n",
       "      <th>credit_count</th>\n",
       "      <th>overdue_credit_count</th>\n",
       "      <th>target</th>\n",
       "    </tr>\n",
       "  </thead>\n",
       "  <tbody>\n",
       "    <tr>\n",
       "      <th>0</th>\n",
       "      <td>1</td>\n",
       "      <td>1</td>\n",
       "      <td>48</td>\n",
       "      <td>0.152923</td>\n",
       "      <td>0.188978</td>\n",
       "      <td>59998.00</td>\n",
       "      <td>10</td>\n",
       "      <td>1.6</td>\n",
       "      <td>0,770249</td>\n",
       "      <td>0.139543</td>\n",
       "      <td>37297.641479</td>\n",
       "      <td>30000.0</td>\n",
       "      <td>1.0</td>\n",
       "      <td>1.0</td>\n",
       "      <td>0</td>\n",
       "    </tr>\n",
       "    <tr>\n",
       "      <th>1</th>\n",
       "      <td>2</td>\n",
       "      <td>0</td>\n",
       "      <td>28</td>\n",
       "      <td>0.152923</td>\n",
       "      <td>0.188978</td>\n",
       "      <td>10889.00</td>\n",
       "      <td>6</td>\n",
       "      <td>1.1</td>\n",
       "      <td>0,248514</td>\n",
       "      <td>0.139543</td>\n",
       "      <td>57219.334894</td>\n",
       "      <td>43000.0</td>\n",
       "      <td>2.0</td>\n",
       "      <td>0.0</td>\n",
       "      <td>0</td>\n",
       "    </tr>\n",
       "    <tr>\n",
       "      <th>2</th>\n",
       "      <td>3</td>\n",
       "      <td>1</td>\n",
       "      <td>32</td>\n",
       "      <td>0.152923</td>\n",
       "      <td>0.166342</td>\n",
       "      <td>10728.00</td>\n",
       "      <td>12</td>\n",
       "      <td>1.1</td>\n",
       "      <td>0,459589</td>\n",
       "      <td>0.205120</td>\n",
       "      <td>30885.555556</td>\n",
       "      <td>23000.0</td>\n",
       "      <td>5.0</td>\n",
       "      <td>0.0</td>\n",
       "      <td>0</td>\n",
       "    </tr>\n",
       "    <tr>\n",
       "      <th>3</th>\n",
       "      <td>4</td>\n",
       "      <td>0</td>\n",
       "      <td>27</td>\n",
       "      <td>0.182086</td>\n",
       "      <td>0.166342</td>\n",
       "      <td>12009.09</td>\n",
       "      <td>12</td>\n",
       "      <td>1.1</td>\n",
       "      <td>0,362536</td>\n",
       "      <td>0.139543</td>\n",
       "      <td>31275.988932</td>\n",
       "      <td>17000.0</td>\n",
       "      <td>2.0</td>\n",
       "      <td>0.0</td>\n",
       "      <td>0</td>\n",
       "    </tr>\n",
       "    <tr>\n",
       "      <th>4</th>\n",
       "      <td>5</td>\n",
       "      <td>1</td>\n",
       "      <td>45</td>\n",
       "      <td>0.152923</td>\n",
       "      <td>0.166342</td>\n",
       "      <td>16908.89</td>\n",
       "      <td>10</td>\n",
       "      <td>1.1</td>\n",
       "      <td>0,421385</td>\n",
       "      <td>0.205120</td>\n",
       "      <td>33936.121586</td>\n",
       "      <td>25000.0</td>\n",
       "      <td>1.0</td>\n",
       "      <td>0.0</td>\n",
       "      <td>0</td>\n",
       "    </tr>\n",
       "  </tbody>\n",
       "</table>\n",
       "</div>"
      ],
      "text/plain": [
       "   client_id  gender  age  marital_status  job_position  credit_sum  \\\n",
       "0          1       1   48        0.152923      0.188978    59998.00   \n",
       "1          2       0   28        0.152923      0.188978    10889.00   \n",
       "2          3       1   32        0.152923      0.166342    10728.00   \n",
       "3          4       0   27        0.182086      0.166342    12009.09   \n",
       "4          5       1   45        0.152923      0.166342    16908.89   \n",
       "\n",
       "   credit_month  tariff_id score_shk  education  living_region  \\\n",
       "0            10        1.6  0,770249   0.139543   37297.641479   \n",
       "1             6        1.1  0,248514   0.139543   57219.334894   \n",
       "2            12        1.1  0,459589   0.205120   30885.555556   \n",
       "3            12        1.1  0,362536   0.139543   31275.988932   \n",
       "4            10        1.1  0,421385   0.205120   33936.121586   \n",
       "\n",
       "   monthly_income  credit_count  overdue_credit_count  target  \n",
       "0         30000.0           1.0                   1.0       0  \n",
       "1         43000.0           2.0                   0.0       0  \n",
       "2         23000.0           5.0                   0.0       0  \n",
       "3         17000.0           2.0                   0.0       0  \n",
       "4         25000.0           1.0                   0.0       0  "
      ]
     },
     "execution_count": 18,
     "metadata": {},
     "output_type": "execute_result"
    }
   ],
   "source": [
    "train.head()"
   ]
  },
  {
   "cell_type": "markdown",
   "metadata": {},
   "source": [
    "credit_pay - ежемесячный расход на кредит\n",
    "\n",
    "money_for_life - разность между зп и платой по кредиту\n",
    "\n",
    "dif_city - разница между зп и средней зп по региону"
   ]
  },
  {
   "cell_type": "code",
   "execution_count": 19,
   "metadata": {
    "collapsed": false
   },
   "outputs": [],
   "source": [
    "train[\"credit_pay\"] = train[\"credit_sum\"] / train[\"credit_month\"]\n",
    "test[\"credit_pay\"] = test[\"credit_sum\"] / test[\"credit_month\"]\n",
    "\n",
    "train[\"money_for_life\"] = train[\"monthly_income\"] - train[\"credit_pay\"]\n",
    "test[\"money_for_life\"] = test[\"monthly_income\"] - test[\"credit_pay\"]\n",
    "\n",
    "train[\"dif_city\"] = train[\"monthly_income\"] - train[\"living_region\"]\n",
    "test[\"dif_city\"] = test[\"monthly_income\"] = test[\"living_region\"]"
   ]
  },
  {
   "cell_type": "markdown",
   "metadata": {},
   "source": [
    "VI анализ score_shk"
   ]
  },
  {
   "cell_type": "code",
   "execution_count": 20,
   "metadata": {
    "collapsed": false
   },
   "outputs": [],
   "source": [
    "tmp = train['score_shk'].apply(lambda x: x.replace(\",\",\".\"))\n",
    "train.score_shk = tmp\n",
    "\n",
    "tmp = test['score_shk'].apply(lambda x: x.replace(\",\",\".\"))\n",
    "test.score_shk = tmp\n",
    "\n",
    "train['score_shk'] = train['score_shk'].astype(float)\n",
    "test['score_shk'] = test['score_shk'].astype(float)"
   ]
  },
  {
   "cell_type": "code",
   "execution_count": 21,
   "metadata": {
    "collapsed": false
   },
   "outputs": [],
   "source": [
    "train['target'] = y"
   ]
  },
  {
   "cell_type": "code",
   "execution_count": 22,
   "metadata": {
    "collapsed": false
   },
   "outputs": [
    {
     "name": "stdout",
     "output_type": "stream",
     "text": [
      "<class 'pandas.core.frame.DataFrame'>\n",
      "RangeIndex: 170746 entries, 0 to 170745\n",
      "Data columns (total 18 columns):\n",
      "client_id               170746 non-null int64\n",
      "gender                  170746 non-null int64\n",
      "age                     170746 non-null int64\n",
      "marital_status          170746 non-null float64\n",
      "job_position            170746 non-null float64\n",
      "credit_sum              170746 non-null float64\n",
      "credit_month            170746 non-null int64\n",
      "tariff_id               170746 non-null float64\n",
      "score_shk               170746 non-null float64\n",
      "education               170746 non-null float64\n",
      "living_region           170746 non-null float64\n",
      "monthly_income          170746 non-null float64\n",
      "credit_count            170746 non-null float64\n",
      "overdue_credit_count    170746 non-null float64\n",
      "target                  170746 non-null int64\n",
      "credit_pay              170746 non-null float64\n",
      "money_for_life          170746 non-null float64\n",
      "dif_city                170746 non-null float64\n",
      "dtypes: float64(13), int64(5)\n",
      "memory usage: 23.4 MB\n"
     ]
    }
   ],
   "source": [
    "train.info()"
   ]
  },
  {
   "cell_type": "code",
   "execution_count": 23,
   "metadata": {
    "collapsed": false,
    "scrolled": false
   },
   "outputs": [
    {
     "name": "stdout",
     "output_type": "stream",
     "text": [
      "<class 'pandas.core.frame.DataFrame'>\n",
      "RangeIndex: 91940 entries, 0 to 91939\n",
      "Data columns (total 17 columns):\n",
      "client_id               91940 non-null int64\n",
      "gender                  91940 non-null int64\n",
      "age                     91940 non-null int64\n",
      "marital_status          91940 non-null float64\n",
      "job_position            91940 non-null float64\n",
      "credit_sum              91940 non-null float64\n",
      "credit_month            91940 non-null int64\n",
      "tariff_id               91940 non-null float64\n",
      "score_shk               91940 non-null float64\n",
      "education               91940 non-null float64\n",
      "living_region           91940 non-null float64\n",
      "monthly_income          91940 non-null float64\n",
      "credit_count            91940 non-null float64\n",
      "overdue_credit_count    91940 non-null float64\n",
      "credit_pay              91940 non-null float64\n",
      "money_for_life          91940 non-null float64\n",
      "dif_city                91940 non-null float64\n",
      "dtypes: float64(13), int64(4)\n",
      "memory usage: 11.9 MB\n"
     ]
    }
   ],
   "source": [
    "test.info()"
   ]
  },
  {
   "cell_type": "code",
   "execution_count": 24,
   "metadata": {
    "collapsed": true
   },
   "outputs": [],
   "source": [
    "train.to_csv(\"../datasets/train_credit_pay.csv\", columns=train.columns, index=False)\n",
    "test.to_csv(\"../datasets/test_credit_pay.csv\", columns=test.columns, index=False)"
   ]
  },
  {
   "cell_type": "code",
   "execution_count": null,
   "metadata": {
    "collapsed": true
   },
   "outputs": [],
   "source": []
  }
 ],
 "metadata": {
  "anaconda-cloud": {},
  "kernelspec": {
   "display_name": "Python 3",
   "language": "python",
   "name": "python3"
  },
  "language_info": {
   "codemirror_mode": {
    "name": "ipython",
    "version": 3
   },
   "file_extension": ".py",
   "mimetype": "text/x-python",
   "name": "python",
   "nbconvert_exporter": "python",
   "pygments_lexer": "ipython3",
   "version": "3.6.0"
  }
 },
 "nbformat": 4,
 "nbformat_minor": 1
}
