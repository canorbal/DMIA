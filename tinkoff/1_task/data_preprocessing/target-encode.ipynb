{
 "cells": [
  {
   "cell_type": "code",
   "execution_count": null,
   "metadata": {
    "collapsed": false
   },
   "outputs": [],
   "source": [
    "import numpy as np\n",
    "import pandas as pd\n",
    "import matplotlib.pyplot as plt\n",
    "%matplotlib inline\n",
    "\n",
    "from sklearn.pipeline import Pipeline\n",
    "from sklearn.linear_model import LinearRegression\n",
    "from sklearn.cross_validation import cross_val_score, train_test_split\n",
    "from sklearn.feature_extraction.text import TfidfVectorizer\n",
    "from sklearn import manifold, decomposition, linear_model, ensemble, neighbors, cross_validation"
   ]
  },
  {
   "cell_type": "code",
   "execution_count": null,
   "metadata": {
    "collapsed": false
   },
   "outputs": [],
   "source": [
    "train = pd.read_csv(\"../credit_train.csv\", sep = \";\", encoding='cp1251')\n",
    "test = pd.read_csv(\"../credit_test.csv\", sep = \";\", encoding='cp1251')"
   ]
  },
  {
   "cell_type": "code",
   "execution_count": null,
   "metadata": {
    "collapsed": true
   },
   "outputs": [],
   "source": [
    "city_train = pd.read_csv(\"../datasets/credit_train_clean.csv\")\n",
    "city_test = pd.read_csv(\"../datasets/credit_test_clean.csv\")"
   ]
  },
  {
   "cell_type": "code",
   "execution_count": null,
   "metadata": {
    "collapsed": false
   },
   "outputs": [],
   "source": [
    "train.head(2)"
   ]
  },
  {
   "cell_type": "code",
   "execution_count": null,
   "metadata": {
    "collapsed": false
   },
   "outputs": [],
   "source": [
    "y = train['open_account_flg']"
   ]
  },
  {
   "cell_type": "code",
   "execution_count": null,
   "metadata": {
    "collapsed": false
   },
   "outputs": [],
   "source": [
    "train.info()"
   ]
  },
  {
   "cell_type": "code",
   "execution_count": null,
   "metadata": {
    "collapsed": false
   },
   "outputs": [],
   "source": [
    "test.info()"
   ]
  },
  {
   "cell_type": "markdown",
   "metadata": {},
   "source": [
    "I работа с пропусками в данных"
   ]
  },
  {
   "cell_type": "code",
   "execution_count": null,
   "metadata": {
    "collapsed": false
   },
   "outputs": [],
   "source": [
    "train[train.monthly_income.isnull()]"
   ]
  },
  {
   "cell_type": "code",
   "execution_count": null,
   "metadata": {
    "collapsed": true
   },
   "outputs": [],
   "source": [
    "train.monthly_income.fillna(value=train.monthly_income.mean(), inplace=True)"
   ]
  },
  {
   "cell_type": "code",
   "execution_count": null,
   "metadata": {
    "collapsed": false
   },
   "outputs": [],
   "source": [
    "train.living_region = city_train.living_region\n",
    "test.living_region = city_test.living_region"
   ]
  },
  {
   "cell_type": "code",
   "execution_count": null,
   "metadata": {
    "collapsed": true
   },
   "outputs": [],
   "source": [
    "train.credit_count.fillna(value = train.credit_count.mean(), inplace=True)\n",
    "train.overdue_credit_count.fillna(value = train.overdue_credit_count.mean(), inplace=True)"
   ]
  },
  {
   "cell_type": "code",
   "execution_count": null,
   "metadata": {
    "collapsed": true
   },
   "outputs": [],
   "source": [
    "test.credit_count.fillna(value = train.credit_count.mean(), inplace=True)\n",
    "test.overdue_credit_count.fillna(value = train.overdue_credit_count.mean(), inplace=True)"
   ]
  },
  {
   "cell_type": "code",
   "execution_count": null,
   "metadata": {
    "collapsed": false
   },
   "outputs": [],
   "source": [
    "train.gender = train.gender.map({\"M\":1, \"F\":0})\n",
    "test.gender = test.gender.map({\"M\":1, \"F\":0})"
   ]
  },
  {
   "cell_type": "code",
   "execution_count": null,
   "metadata": {
    "collapsed": true
   },
   "outputs": [],
   "source": [
    "train.rename(columns={\"open_account_flg\":\"target\"}, inplace=True)"
   ]
  },
  {
   "cell_type": "markdown",
   "metadata": {},
   "source": [
    "кодировка категориальных признаков через среднее значения таргета"
   ]
  },
  {
   "cell_type": "code",
   "execution_count": null,
   "metadata": {
    "collapsed": false
   },
   "outputs": [],
   "source": [
    "train.columns"
   ]
  },
  {
   "cell_type": "code",
   "execution_count": null,
   "metadata": {
    "collapsed": false
   },
   "outputs": [],
   "source": [
    "job_position_dict = pd.DataFrame(train.groupby(\"job_position\").target.mean()).to_dict()\n",
    "train['job_position'] = train.job_position.map(job_position_dict[\"target\"])\n",
    "test['job_position'] = test.job_position.map(job_position_dict[\"target\"])\n",
    "\n",
    "marital_status_dict = pd.DataFrame(train.groupby(\"marital_status\").target.mean()).to_dict()\n",
    "train['marital_status'] = train.marital_status.map(marital_status_dict[\"target\"])\n",
    "test['marital_status'] = test.marital_status.map(marital_status_dict[\"target\"])\n",
    "\n",
    "edu_dict = pd.DataFrame(train.groupby(\"education\").target.mean()).to_dict()\n",
    "train['education'] = train.education.map(edu_dict[\"target\"])\n",
    "test['education'] = test.education.map(edu_dict[\"target\"])\n",
    "\n",
    "tariff_dict = pd.DataFrame(train.groupby(\"tariff_id\").target.mean()).to_dict()\n",
    "train['tariff_id'] = train.tariff_id.map(tariff_dict[\"target\"])\n",
    "test['tariff_id'] = test.tariff_id.map(tariff_dict[\"target\"])"
   ]
  },
  {
   "cell_type": "code",
   "execution_count": null,
   "metadata": {
    "collapsed": true
   },
   "outputs": [],
   "source": [
    "train_col = train.columns.drop(\"target\")\n",
    "dummy_df = pd.concat([train[train_col], test], axis=0)\n",
    "dummy_df = pd.get_dummies(dummy_df, columns=[\"living_region\"], drop_first=True)\n",
    "train = dummy_df[:train.shape[0]]\n",
    "test = dummy_df[train.shape[0]:]"
   ]
  },
  {
   "cell_type": "code",
   "execution_count": null,
   "metadata": {
    "collapsed": false
   },
   "outputs": [],
   "source": [
    "train.monthly_income = train['monthly_income'].astype(float)\n",
    "test.monthly_income = test['monthly_income'].astype(float)"
   ]
  },
  {
   "cell_type": "markdown",
   "metadata": {},
   "source": [
    "Генерация данных о зарплате и выплатам по кредиту"
   ]
  },
  {
   "cell_type": "code",
   "execution_count": null,
   "metadata": {
    "collapsed": false
   },
   "outputs": [],
   "source": [
    "tmp = train['credit_sum'].apply(lambda x: x.replace(\",\",\".\"))\n",
    "train['credit_sum'] = tmp\n",
    "tmp = test['credit_sum'].apply(lambda x: x.replace(\",\",\".\"))\n",
    "test['credit_sum'] = tmp\n",
    "\n",
    "train['credit_sum'] = train['credit_sum'].astype(float)\n",
    "test['credit_sum'] = test['credit_sum'].astype(float)"
   ]
  },
  {
   "cell_type": "markdown",
   "metadata": {},
   "source": [
    "credit_pay - ежемесячный расход на кредит\n",
    "\n",
    "money_for_life - разность между зп и платой по кредиту"
   ]
  },
  {
   "cell_type": "code",
   "execution_count": null,
   "metadata": {
    "collapsed": false
   },
   "outputs": [],
   "source": [
    "train[\"credit_pay\"] = train[\"credit_sum\"] / train[\"credit_month\"]\n",
    "train[\"money_for_life\"] = train[\"monthly_income\"] - train[\"credit_pay\"]\n",
    "\n",
    "test[\"credit_pay\"] = test[\"credit_sum\"] / test[\"credit_month\"]\n",
    "test[\"money_for_life\"] = test[\"monthly_income\"] - test[\"credit_pay\"]"
   ]
  },
  {
   "cell_type": "markdown",
   "metadata": {},
   "source": [
    "анализ score_shk"
   ]
  },
  {
   "cell_type": "code",
   "execution_count": null,
   "metadata": {
    "collapsed": false
   },
   "outputs": [],
   "source": [
    "tmp = train['score_shk'].apply(lambda x: x.replace(\",\",\".\"))\n",
    "train.score_shk = tmp\n",
    "\n",
    "tmp = test['score_shk'].apply(lambda x: x.replace(\",\",\".\"))\n",
    "test.score_shk = tmp\n",
    "\n",
    "train['score_shk'] = train['score_shk'].astype(float)\n",
    "test['score_shk'] = test['score_shk'].astype(float)"
   ]
  },
  {
   "cell_type": "code",
   "execution_count": null,
   "metadata": {
    "collapsed": false
   },
   "outputs": [],
   "source": [
    "train['target'] = y"
   ]
  },
  {
   "cell_type": "code",
   "execution_count": null,
   "metadata": {
    "collapsed": false
   },
   "outputs": [],
   "source": [
    "train.info()"
   ]
  },
  {
   "cell_type": "code",
   "execution_count": null,
   "metadata": {
    "collapsed": false
   },
   "outputs": [],
   "source": [
    "test.info()"
   ]
  },
  {
   "cell_type": "code",
   "execution_count": null,
   "metadata": {
    "collapsed": true
   },
   "outputs": [],
   "source": [
    "train.to_csv(\"../datasets/train_target_encode.csv\", columns=train.columns, index=False)\n",
    "test.to_csv(\"../datasets/test_target_encode.csv\", columns=test.columns, index=False)"
   ]
  }
 ],
 "metadata": {
  "anaconda-cloud": {},
  "kernelspec": {
   "display_name": "Python 3",
   "language": "python",
   "name": "python3"
  },
  "language_info": {
   "codemirror_mode": {
    "name": "ipython",
    "version": 3
   },
   "file_extension": ".py",
   "mimetype": "text/x-python",
   "name": "python",
   "nbconvert_exporter": "python",
   "pygments_lexer": "ipython3",
   "version": "3.6.0"
  }
 },
 "nbformat": 4,
 "nbformat_minor": 1
}
