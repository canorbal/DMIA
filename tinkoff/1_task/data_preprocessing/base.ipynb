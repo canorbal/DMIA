{
 "cells": [
  {
   "cell_type": "code",
   "execution_count": null,
   "metadata": {
    "collapsed": false
   },
   "outputs": [],
   "source": [
    "import numpy as np\n",
    "import pandas as pd\n",
    "import matplotlib.pyplot as plt\n",
    "%matplotlib inline\n",
    "\n",
    "from sklearn.pipeline import Pipeline\n",
    "from sklearn.linear_model import LinearRegression\n",
    "from sklearn.cross_validation import cross_val_score, train_test_split\n",
    "from sklearn.feature_extraction.text import TfidfVectorizer\n",
    "from sklearn import manifold, decomposition, linear_model, ensemble, neighbors, cross_validation"
   ]
  },
  {
   "cell_type": "code",
   "execution_count": 2,
   "metadata": {
    "collapsed": false
   },
   "outputs": [],
   "source": [
    "train = pd.read_csv(\"../credit_train.csv\", sep = \";\", encoding='cp1251')\n",
    "test = pd.read_csv(\"../credit_test.csv\", sep = \";\", encoding='cp1251')"
   ]
  },
  {
   "cell_type": "code",
   "execution_count": 3,
   "metadata": {
    "collapsed": false
   },
   "outputs": [
    {
     "data": {
      "text/html": [
       "<div>\n",
       "<table border=\"1\" class=\"dataframe\">\n",
       "  <thead>\n",
       "    <tr style=\"text-align: right;\">\n",
       "      <th></th>\n",
       "      <th>client_id</th>\n",
       "      <th>gender</th>\n",
       "      <th>age</th>\n",
       "      <th>marital_status</th>\n",
       "      <th>job_position</th>\n",
       "      <th>credit_sum</th>\n",
       "      <th>credit_month</th>\n",
       "      <th>tariff_id</th>\n",
       "      <th>score_shk</th>\n",
       "      <th>education</th>\n",
       "      <th>living_region</th>\n",
       "      <th>monthly_income</th>\n",
       "      <th>credit_count</th>\n",
       "      <th>overdue_credit_count</th>\n",
       "      <th>open_account_flg</th>\n",
       "    </tr>\n",
       "  </thead>\n",
       "  <tbody>\n",
       "    <tr>\n",
       "      <th>0</th>\n",
       "      <td>1</td>\n",
       "      <td>M</td>\n",
       "      <td>48</td>\n",
       "      <td>MAR</td>\n",
       "      <td>UMN</td>\n",
       "      <td>59998,00</td>\n",
       "      <td>10</td>\n",
       "      <td>1.6</td>\n",
       "      <td>0,770249</td>\n",
       "      <td>GRD</td>\n",
       "      <td>КРАСНОДАРСКИЙ КРАЙ</td>\n",
       "      <td>30000.0</td>\n",
       "      <td>1.0</td>\n",
       "      <td>1.0</td>\n",
       "      <td>0</td>\n",
       "    </tr>\n",
       "    <tr>\n",
       "      <th>1</th>\n",
       "      <td>2</td>\n",
       "      <td>F</td>\n",
       "      <td>28</td>\n",
       "      <td>MAR</td>\n",
       "      <td>UMN</td>\n",
       "      <td>10889,00</td>\n",
       "      <td>6</td>\n",
       "      <td>1.1</td>\n",
       "      <td>0,248514</td>\n",
       "      <td>GRD</td>\n",
       "      <td>МОСКВА</td>\n",
       "      <td>43000.0</td>\n",
       "      <td>2.0</td>\n",
       "      <td>0.0</td>\n",
       "      <td>0</td>\n",
       "    </tr>\n",
       "  </tbody>\n",
       "</table>\n",
       "</div>"
      ],
      "text/plain": [
       "   client_id gender  age marital_status job_position credit_sum  credit_month  \\\n",
       "0          1      M   48            MAR          UMN   59998,00            10   \n",
       "1          2      F   28            MAR          UMN   10889,00             6   \n",
       "\n",
       "   tariff_id score_shk education       living_region  monthly_income  \\\n",
       "0        1.6  0,770249       GRD  КРАСНОДАРСКИЙ КРАЙ         30000.0   \n",
       "1        1.1  0,248514       GRD              МОСКВА         43000.0   \n",
       "\n",
       "   credit_count  overdue_credit_count  open_account_flg  \n",
       "0           1.0                   1.0                 0  \n",
       "1           2.0                   0.0                 0  "
      ]
     },
     "execution_count": 3,
     "metadata": {},
     "output_type": "execute_result"
    }
   ],
   "source": [
    "train.head(2)"
   ]
  },
  {
   "cell_type": "code",
   "execution_count": 4,
   "metadata": {
    "collapsed": false
   },
   "outputs": [],
   "source": [
    "y = train['open_account_flg']"
   ]
  },
  {
   "cell_type": "code",
   "execution_count": 5,
   "metadata": {
    "collapsed": false
   },
   "outputs": [
    {
     "name": "stdout",
     "output_type": "stream",
     "text": [
      "<class 'pandas.core.frame.DataFrame'>\n",
      "RangeIndex: 170746 entries, 0 to 170745\n",
      "Data columns (total 15 columns):\n",
      "client_id               170746 non-null int64\n",
      "gender                  170746 non-null object\n",
      "age                     170746 non-null int64\n",
      "marital_status          170746 non-null object\n",
      "job_position            170746 non-null object\n",
      "credit_sum              170746 non-null object\n",
      "credit_month            170746 non-null int64\n",
      "tariff_id               170746 non-null float64\n",
      "score_shk               170746 non-null object\n",
      "education               170746 non-null object\n",
      "living_region           170554 non-null object\n",
      "monthly_income          170745 non-null float64\n",
      "credit_count            161516 non-null float64\n",
      "overdue_credit_count    161516 non-null float64\n",
      "open_account_flg        170746 non-null int64\n",
      "dtypes: float64(4), int64(4), object(7)\n",
      "memory usage: 19.5+ MB\n"
     ]
    }
   ],
   "source": [
    "train.info()"
   ]
  },
  {
   "cell_type": "code",
   "execution_count": 6,
   "metadata": {
    "collapsed": false
   },
   "outputs": [
    {
     "name": "stdout",
     "output_type": "stream",
     "text": [
      "<class 'pandas.core.frame.DataFrame'>\n",
      "RangeIndex: 91940 entries, 0 to 91939\n",
      "Data columns (total 14 columns):\n",
      "client_id               91940 non-null int64\n",
      "gender                  91940 non-null object\n",
      "age                     91940 non-null int64\n",
      "marital_status          91940 non-null object\n",
      "job_position            91940 non-null object\n",
      "credit_sum              91940 non-null object\n",
      "credit_month            91940 non-null int64\n",
      "tariff_id               91940 non-null float64\n",
      "score_shk               91940 non-null object\n",
      "education               91940 non-null object\n",
      "living_region           91824 non-null object\n",
      "monthly_income          91940 non-null int64\n",
      "credit_count            87237 non-null float64\n",
      "overdue_credit_count    87237 non-null float64\n",
      "dtypes: float64(3), int64(4), object(7)\n",
      "memory usage: 9.8+ MB\n"
     ]
    }
   ],
   "source": [
    "test.info()"
   ]
  },
  {
   "cell_type": "markdown",
   "metadata": {},
   "source": [
    "I работа с пропусками в данных"
   ]
  },
  {
   "cell_type": "code",
   "execution_count": 7,
   "metadata": {
    "collapsed": false
   },
   "outputs": [
    {
     "data": {
      "text/html": [
       "<div>\n",
       "<table border=\"1\" class=\"dataframe\">\n",
       "  <thead>\n",
       "    <tr style=\"text-align: right;\">\n",
       "      <th></th>\n",
       "      <th>client_id</th>\n",
       "      <th>gender</th>\n",
       "      <th>age</th>\n",
       "      <th>marital_status</th>\n",
       "      <th>job_position</th>\n",
       "      <th>credit_sum</th>\n",
       "      <th>credit_month</th>\n",
       "      <th>tariff_id</th>\n",
       "      <th>score_shk</th>\n",
       "      <th>education</th>\n",
       "      <th>living_region</th>\n",
       "      <th>monthly_income</th>\n",
       "      <th>credit_count</th>\n",
       "      <th>overdue_credit_count</th>\n",
       "      <th>open_account_flg</th>\n",
       "    </tr>\n",
       "  </thead>\n",
       "  <tbody>\n",
       "    <tr>\n",
       "      <th>19639</th>\n",
       "      <td>19640</td>\n",
       "      <td>F</td>\n",
       "      <td>33</td>\n",
       "      <td>MAR</td>\n",
       "      <td>BIS</td>\n",
       "      <td>13009,00</td>\n",
       "      <td>10</td>\n",
       "      <td>1.6</td>\n",
       "      <td>0,535834</td>\n",
       "      <td>SCH</td>\n",
       "      <td>ПРИМОРСКИЙ КРАЙ</td>\n",
       "      <td>NaN</td>\n",
       "      <td>2.0</td>\n",
       "      <td>0.0</td>\n",
       "      <td>0</td>\n",
       "    </tr>\n",
       "  </tbody>\n",
       "</table>\n",
       "</div>"
      ],
      "text/plain": [
       "       client_id gender  age marital_status job_position credit_sum  \\\n",
       "19639      19640      F   33            MAR          BIS   13009,00   \n",
       "\n",
       "       credit_month  tariff_id score_shk education    living_region  \\\n",
       "19639            10        1.6  0,535834       SCH  ПРИМОРСКИЙ КРАЙ   \n",
       "\n",
       "       monthly_income  credit_count  overdue_credit_count  open_account_flg  \n",
       "19639             NaN           2.0                   0.0                 0  "
      ]
     },
     "execution_count": 7,
     "metadata": {},
     "output_type": "execute_result"
    }
   ],
   "source": [
    "train[train.monthly_income.isnull()]"
   ]
  },
  {
   "cell_type": "code",
   "execution_count": 8,
   "metadata": {
    "collapsed": true
   },
   "outputs": [],
   "source": [
    "train.monthly_income.fillna(value=train.monthly_income.mean(), inplace=True)"
   ]
  },
  {
   "cell_type": "markdown",
   "metadata": {},
   "source": [
    "возьмем данные о городах из ../datasets/clean/credit_{train/test}_clean.csv"
   ]
  },
  {
   "cell_type": "code",
   "execution_count": 9,
   "metadata": {
    "collapsed": true
   },
   "outputs": [],
   "source": [
    "city_train = pd.read_csv(\"../datasets/credit_train_clean.csv\")\n",
    "city_test = pd.read_csv(\"../datasets/credit_test_clean.csv\")"
   ]
  },
  {
   "cell_type": "code",
   "execution_count": 10,
   "metadata": {
    "collapsed": false
   },
   "outputs": [],
   "source": [
    "train.living_region = city_train.living_region\n",
    "test.living_region = city_test.living_region"
   ]
  },
  {
   "cell_type": "code",
   "execution_count": null,
   "metadata": {
    "collapsed": true
   },
   "outputs": [],
   "source": []
  },
  {
   "cell_type": "code",
   "execution_count": 11,
   "metadata": {
    "collapsed": true
   },
   "outputs": [],
   "source": [
    "train.credit_count.fillna(value = train.credit_count.mean(), inplace=True)\n",
    "train.overdue_credit_count.fillna(value = train.overdue_credit_count.mean(), inplace=True)"
   ]
  },
  {
   "cell_type": "code",
   "execution_count": 12,
   "metadata": {
    "collapsed": true
   },
   "outputs": [],
   "source": [
    "test.credit_count.fillna(value = train.credit_count.mean(), inplace=True)\n",
    "test.overdue_credit_count.fillna(value = train.overdue_credit_count.mean(), inplace=True)"
   ]
  },
  {
   "cell_type": "code",
   "execution_count": null,
   "metadata": {
    "collapsed": true
   },
   "outputs": [],
   "source": []
  },
  {
   "cell_type": "code",
   "execution_count": 13,
   "metadata": {
    "collapsed": false
   },
   "outputs": [],
   "source": [
    "train.gender = train.gender.map({\"M\":1, \"F\":0})\n",
    "test.gender = test.gender.map({\"M\":1, \"F\":0})"
   ]
  },
  {
   "cell_type": "code",
   "execution_count": 14,
   "metadata": {
    "collapsed": true
   },
   "outputs": [],
   "source": [
    "train.rename(columns={\"open_account_flg\":\"target\"}, inplace=True)"
   ]
  },
  {
   "cell_type": "markdown",
   "metadata": {},
   "source": [
    "II выделим группы людей по наличию высшего образования, работе и пенсии "
   ]
  },
  {
   "cell_type": "code",
   "execution_count": 15,
   "metadata": {
    "collapsed": false
   },
   "outputs": [],
   "source": [
    "### по образованию\n",
    "train[\"high_edu\"] = ((train[\"education\"] != \"SCH\") & (train[\"education\"] != \"UGR\"))\n",
    "\n",
    "### по работе\n",
    "# 1. не работающие граждание\n",
    "train[\"not_work\"] = ((train.job_position == \"HSK\") | (train.job_position == \"INV\") \n",
    "                     | (train.job_position == \"NOR\") | (train.job_position == \"PNS\"))\n",
    "\n",
    "# 2. обычные работники\n",
    "train[\"usual_workers\"] = ((train.job_position == \"SPC\") | (train.job_position == \"WOI\") \n",
    "                     | (train.job_position == \"WRK\") | (train.job_position == \"ATP\") \n",
    "                     | (train.job_position == \"WRP\"))\n",
    "\n",
    "# 3. начальники\n",
    "train[\"head_workers\"] = ((train.job_position == \"DIR\") | (train.job_position == \"UMN\")\n",
    "                         | (train.job_position == \"BIS\") | (train.job_position == \"INP\"))\n",
    "\n",
    "# 4. имеют собственный бизнес\n",
    "train[\"have_business\"] = ((train.job_position == \"BIS\") | (train.job_position == \"INP\"))\n",
    "\n",
    "### по браку\n",
    "train[\"single\"] = ((train.marital_status == \"UNM\") | (train.marital_status == \"DIV\")\n",
    "                   | (train.marital_status == \"WID\"))"
   ]
  },
  {
   "cell_type": "code",
   "execution_count": 16,
   "metadata": {
    "collapsed": true
   },
   "outputs": [],
   "source": [
    "### по образованию\n",
    "test[\"high_edu\"] = ((test[\"education\"] != \"SCH\") & (test[\"education\"] != \"UGR\"))\n",
    "\n",
    "### по работе\n",
    "# 1. не работающие граждание\n",
    "test[\"not_work\"] = ((test.job_position == \"HSK\") | (test.job_position == \"INV\") \n",
    "                     | (test.job_position == \"NOR\") | (test.job_position == \"PNS\"))\n",
    "\n",
    "# 2. обычные работники\n",
    "test[\"usual_workers\"] = ((test.job_position == \"SPC\") | (test.job_position == \"WOI\") \n",
    "                     | (test.job_position == \"WRK\") | (test.job_position == \"ATP\") \n",
    "                     | (test.job_position == \"WRP\"))\n",
    "\n",
    "# 3. начальники\n",
    "test[\"head_workers\"] = ((test.job_position == \"DIR\") | (test.job_position == \"UMN\")\n",
    "                         | (test.job_position == \"BIS\") | (test.job_position == \"INP\"))\n",
    "\n",
    "# 4. имеют собственный бизнес\n",
    "test[\"have_business\"] = ((test.job_position == \"BIS\") | (test.job_position == \"INP\"))\n",
    "\n",
    "### по браку\n",
    "test[\"single\"] = ((test.marital_status == \"UNM\") | (test.marital_status == \"DIV\")\n",
    "                   | (test.marital_status == \"WID\"))"
   ]
  },
  {
   "cell_type": "markdown",
   "metadata": {},
   "source": [
    "III кодировка категориальных признаков, кроме living region"
   ]
  },
  {
   "cell_type": "code",
   "execution_count": 18,
   "metadata": {
    "collapsed": false
   },
   "outputs": [],
   "source": [
    "job_position_dict = pd.DataFrame(train.groupby(\"job_position\").target.mean()).to_dict()\n",
    "train[\"target_job_position\"] = train.job_position.map(job_position_dict[\"target\"])\n",
    "test[\"target_job_position\"] = test.job_position.map(job_position_dict[\"target\"])\n",
    "\n",
    "marital_status_dict = pd.DataFrame(train.groupby(\"marital_status\").target.mean()).to_dict()\n",
    "train[\"target_marital_status\"] = train.marital_status.map(marital_status_dict[\"target\"])\n",
    "test[\"target_marital_status\"] = test.marital_status.map(marital_status_dict[\"target\"])\n",
    "\n",
    "edu_dict = pd.DataFrame(train.groupby(\"education\").target.mean()).to_dict()\n",
    "train[\"target_education\"] = train.education.map(edu_dict[\"target\"])\n",
    "test[\"target_education\"] = test.education.map(edu_dict[\"target\"])\n",
    "\n",
    "tariff_dict = pd.DataFrame(train.groupby(\"tariff_id\").target.mean()).to_dict()\n",
    "train[\"target_tariff_id\"] = train.tariff_id.map(tariff_dict[\"target\"])\n",
    "test[\"target_tariff_id\"] = test.tariff_id.map(tariff_dict[\"target\"])"
   ]
  },
  {
   "cell_type": "code",
   "execution_count": 21,
   "metadata": {
    "collapsed": false
   },
   "outputs": [],
   "source": [
    "train_col = train.columns.drop(\"target\")\n",
    "dummy_df = pd.concat([train[train_col], test], axis=0)\n",
    "dummy_df = pd.get_dummies(dummy_df, columns=[\"education\",\"job_position\", \"marital_status\"])\n",
    "train = dummy_df[:train.shape[0]]\n",
    "test = dummy_df[train.shape[0]:]"
   ]
  },
  {
   "cell_type": "code",
   "execution_count": 22,
   "metadata": {
    "collapsed": false
   },
   "outputs": [
    {
     "data": {
      "text/plain": [
       "Index(['client_id', 'gender', 'age', 'credit_sum', 'credit_month', 'tariff_id',\n",
       "       'score_shk', 'living_region', 'monthly_income', 'credit_count',\n",
       "       'overdue_credit_count', 'high_edu', 'not_work', 'usual_workers',\n",
       "       'head_workers', 'have_business', 'single', 'target_job_position',\n",
       "       'target_marital_status', 'target_education', 'target_tariff_id',\n",
       "       'education_ACD', 'education_GRD', 'education_PGR', 'education_SCH',\n",
       "       'education_UGR', 'job_position_ATP', 'job_position_BIS',\n",
       "       'job_position_BIU', 'job_position_DIR', 'job_position_HSK',\n",
       "       'job_position_INP', 'job_position_INV', 'job_position_NOR',\n",
       "       'job_position_ONB', 'job_position_PNA', 'job_position_PNI',\n",
       "       'job_position_PNS', 'job_position_PNV', 'job_position_SPC',\n",
       "       'job_position_UMN', 'job_position_WOI', 'job_position_WRK',\n",
       "       'job_position_WRP', 'marital_status_CIV', 'marital_status_DIV',\n",
       "       'marital_status_MAR', 'marital_status_UNM', 'marital_status_WID'],\n",
       "      dtype='object')"
      ]
     },
     "execution_count": 22,
     "metadata": {},
     "output_type": "execute_result"
    }
   ],
   "source": [
    "train.columns"
   ]
  },
  {
   "cell_type": "markdown",
   "metadata": {},
   "source": [
    "IV кодировка региона через среднюю зарплату"
   ]
  },
  {
   "cell_type": "code",
   "execution_count": null,
   "metadata": {
    "collapsed": false
   },
   "outputs": [],
   "source": [
    "train['monthly_income'].astype(float)\n",
    "test['monthly_income'].astype(float)\n",
    "\n",
    "income_region = pd.concat([train[[\"monthly_income\", \"living_region\"]],\\\n",
    "                           test[[\"monthly_income\", \"living_region\"]]], axis=0)\n",
    "\n",
    "income_dict = pd.DataFrame(income_region.groupby(\"living_region\").monthly_income.mean()).to_dict()\n",
    "train.living_region = train.living_region.map(income_dict[\"monthly_income\"])\n",
    "test.living_region = test.living_region.map(income_dict[\"monthly_income\"])"
   ]
  },
  {
   "cell_type": "markdown",
   "metadata": {},
   "source": [
    "V Генерация данных о зарплате и выплатам по кредиту"
   ]
  },
  {
   "cell_type": "code",
   "execution_count": null,
   "metadata": {
    "collapsed": false
   },
   "outputs": [],
   "source": [
    "tmp = train['credit_sum'].apply(lambda x: x.replace(\",\",\".\"))\n",
    "train['credit_sum'] = tmp\n",
    "tmp = test['credit_sum'].apply(lambda x: x.replace(\",\",\".\"))\n",
    "test['credit_sum'] = tmp\n",
    "\n",
    "train['credit_sum'] = train['credit_sum'].astype(float)\n",
    "test['credit_sum'] = test['credit_sum'].astype(float)"
   ]
  },
  {
   "cell_type": "markdown",
   "metadata": {},
   "source": [
    "credit_pay - ежемесячный расход на кредит\n",
    "\n",
    "money_for_life - разность между зп и платой по кредиту\n",
    "\n",
    "dif_city - разница между зп и средней зп по региону"
   ]
  },
  {
   "cell_type": "code",
   "execution_count": null,
   "metadata": {
    "collapsed": false
   },
   "outputs": [],
   "source": [
    "train[\"credit_pay\"] = train[\"credit_sum\"] / train[\"credit_month\"]\n",
    "train[\"money_for_life\"] = train[\"monthly_income\"] - train[\"credit_pay\"]\n",
    "train[\"dif_city\"] = train[\"monthly_income\"] - train[\"living_region\"]\n",
    "\n",
    "test[\"credit_pay\"] = test[\"credit_sum\"] / test[\"credit_month\"]\n",
    "test[\"money_for_life\"] = test[\"monthly_income\"] - test[\"credit_pay\"]\n",
    "test[\"dif_city\"] = test[\"monthly_income\"] - test[\"living_region\"]"
   ]
  },
  {
   "cell_type": "markdown",
   "metadata": {},
   "source": [
    "VI анализ score_shk"
   ]
  },
  {
   "cell_type": "code",
   "execution_count": null,
   "metadata": {
    "collapsed": false
   },
   "outputs": [],
   "source": [
    "tmp = train['score_shk'].apply(lambda x: x.replace(\",\",\".\"))\n",
    "train.score_shk = tmp\n",
    "\n",
    "tmp = test['score_shk'].apply(lambda x: x.replace(\",\",\".\"))\n",
    "test.score_shk = tmp\n",
    "\n",
    "train['score_shk'] = train['score_shk'].astype(float)\n",
    "test['score_shk'] = test['score_shk'].astype(float)"
   ]
  },
  {
   "cell_type": "code",
   "execution_count": null,
   "metadata": {
    "collapsed": false
   },
   "outputs": [],
   "source": [
    "train['target'] = y"
   ]
  },
  {
   "cell_type": "code",
   "execution_count": 28,
   "metadata": {
    "collapsed": false
   },
   "outputs": [
    {
     "name": "stdout",
     "output_type": "stream",
     "text": [
      "<class 'pandas.core.frame.DataFrame'>\n",
      "Int64Index: 170746 entries, 0 to 170745\n",
      "Data columns (total 53 columns):\n",
      "client_id                170746 non-null int64\n",
      "gender                   170746 non-null int64\n",
      "age                      170746 non-null int64\n",
      "credit_sum               170746 non-null float64\n",
      "credit_month             170746 non-null int64\n",
      "tariff_id                170746 non-null float64\n",
      "score_shk                170746 non-null float64\n",
      "living_region            170746 non-null float64\n",
      "monthly_income           170746 non-null float64\n",
      "credit_count             170746 non-null float64\n",
      "overdue_credit_count     170746 non-null float64\n",
      "high_edu                 170746 non-null bool\n",
      "not_work                 170746 non-null bool\n",
      "usual_workers            170746 non-null bool\n",
      "head_workers             170746 non-null bool\n",
      "have_business            170746 non-null bool\n",
      "single                   170746 non-null bool\n",
      "target_job_position      170746 non-null float64\n",
      "target_marital_status    170746 non-null float64\n",
      "target_education         170746 non-null float64\n",
      "target_tariff_id         170746 non-null float64\n",
      "education_ACD            170746 non-null uint8\n",
      "education_GRD            170746 non-null uint8\n",
      "education_PGR            170746 non-null uint8\n",
      "education_SCH            170746 non-null uint8\n",
      "education_UGR            170746 non-null uint8\n",
      "job_position_ATP         170746 non-null uint8\n",
      "job_position_BIS         170746 non-null uint8\n",
      "job_position_BIU         170746 non-null uint8\n",
      "job_position_DIR         170746 non-null uint8\n",
      "job_position_HSK         170746 non-null uint8\n",
      "job_position_INP         170746 non-null uint8\n",
      "job_position_INV         170746 non-null uint8\n",
      "job_position_NOR         170746 non-null uint8\n",
      "job_position_ONB         170746 non-null uint8\n",
      "job_position_PNA         170746 non-null uint8\n",
      "job_position_PNI         170746 non-null uint8\n",
      "job_position_PNS         170746 non-null uint8\n",
      "job_position_PNV         170746 non-null uint8\n",
      "job_position_SPC         170746 non-null uint8\n",
      "job_position_UMN         170746 non-null uint8\n",
      "job_position_WOI         170746 non-null uint8\n",
      "job_position_WRK         170746 non-null uint8\n",
      "job_position_WRP         170746 non-null uint8\n",
      "marital_status_CIV       170746 non-null uint8\n",
      "marital_status_DIV       170746 non-null uint8\n",
      "marital_status_MAR       170746 non-null uint8\n",
      "marital_status_UNM       170746 non-null uint8\n",
      "marital_status_WID       170746 non-null uint8\n",
      "credit_pay               170746 non-null float64\n",
      "money_for_life           170746 non-null float64\n",
      "dif_city                 170746 non-null float64\n",
      "target                   170746 non-null int64\n",
      "dtypes: bool(6), float64(14), int64(5), uint8(28)\n",
      "memory usage: 31.6 MB\n"
     ]
    }
   ],
   "source": [
    "train.info()"
   ]
  },
  {
   "cell_type": "code",
   "execution_count": 29,
   "metadata": {
    "collapsed": false
   },
   "outputs": [
    {
     "name": "stdout",
     "output_type": "stream",
     "text": [
      "<class 'pandas.core.frame.DataFrame'>\n",
      "Int64Index: 91940 entries, 0 to 91939\n",
      "Data columns (total 52 columns):\n",
      "client_id                91940 non-null int64\n",
      "gender                   91940 non-null int64\n",
      "age                      91940 non-null int64\n",
      "credit_sum               91940 non-null float64\n",
      "credit_month             91940 non-null int64\n",
      "tariff_id                91940 non-null float64\n",
      "score_shk                91940 non-null float64\n",
      "living_region            91940 non-null float64\n",
      "monthly_income           91940 non-null float64\n",
      "credit_count             91940 non-null float64\n",
      "overdue_credit_count     91940 non-null float64\n",
      "high_edu                 91940 non-null bool\n",
      "not_work                 91940 non-null bool\n",
      "usual_workers            91940 non-null bool\n",
      "head_workers             91940 non-null bool\n",
      "have_business            91940 non-null bool\n",
      "single                   91940 non-null bool\n",
      "target_job_position      91940 non-null float64\n",
      "target_marital_status    91940 non-null float64\n",
      "target_education         91940 non-null float64\n",
      "target_tariff_id         91940 non-null float64\n",
      "education_ACD            91940 non-null uint8\n",
      "education_GRD            91940 non-null uint8\n",
      "education_PGR            91940 non-null uint8\n",
      "education_SCH            91940 non-null uint8\n",
      "education_UGR            91940 non-null uint8\n",
      "job_position_ATP         91940 non-null uint8\n",
      "job_position_BIS         91940 non-null uint8\n",
      "job_position_BIU         91940 non-null uint8\n",
      "job_position_DIR         91940 non-null uint8\n",
      "job_position_HSK         91940 non-null uint8\n",
      "job_position_INP         91940 non-null uint8\n",
      "job_position_INV         91940 non-null uint8\n",
      "job_position_NOR         91940 non-null uint8\n",
      "job_position_ONB         91940 non-null uint8\n",
      "job_position_PNA         91940 non-null uint8\n",
      "job_position_PNI         91940 non-null uint8\n",
      "job_position_PNS         91940 non-null uint8\n",
      "job_position_PNV         91940 non-null uint8\n",
      "job_position_SPC         91940 non-null uint8\n",
      "job_position_UMN         91940 non-null uint8\n",
      "job_position_WOI         91940 non-null uint8\n",
      "job_position_WRK         91940 non-null uint8\n",
      "job_position_WRP         91940 non-null uint8\n",
      "marital_status_CIV       91940 non-null uint8\n",
      "marital_status_DIV       91940 non-null uint8\n",
      "marital_status_MAR       91940 non-null uint8\n",
      "marital_status_UNM       91940 non-null uint8\n",
      "marital_status_WID       91940 non-null uint8\n",
      "credit_pay               91940 non-null float64\n",
      "money_for_life           91940 non-null float64\n",
      "dif_city                 91940 non-null float64\n",
      "dtypes: bool(6), float64(14), int64(4), uint8(28)\n",
      "memory usage: 16.3 MB\n"
     ]
    }
   ],
   "source": [
    "test.info()"
   ]
  },
  {
   "cell_type": "code",
   "execution_count": 30,
   "metadata": {
    "collapsed": true
   },
   "outputs": [],
   "source": [
    "train.to_csv(\"../datasets/train_base.csv\", columns=train.columns, index=False)\n",
    "test.to_csv(\"../datasets/test_base.csv\", columns=test.columns, index=False)"
   ]
  },
  {
   "cell_type": "code",
   "execution_count": null,
   "metadata": {
    "collapsed": true
   },
   "outputs": [],
   "source": []
  }
 ],
 "metadata": {
  "anaconda-cloud": {},
  "kernelspec": {
   "display_name": "Python 3",
   "language": "python",
   "name": "python3"
  },
  "language_info": {
   "codemirror_mode": {
    "name": "ipython",
    "version": 3
   },
   "file_extension": ".py",
   "mimetype": "text/x-python",
   "name": "python",
   "nbconvert_exporter": "python",
   "pygments_lexer": "ipython3",
   "version": "3.6.0"
  }
 },
 "nbformat": 4,
 "nbformat_minor": 1
}
