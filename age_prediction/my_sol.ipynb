{
 "cells": [
  {
   "cell_type": "markdown",
   "metadata": {
    "collapsed": false
   },
   "source": [
    "Данные это браузерная история пользователей – тайтлы и урлы страниц которые посещал пользователь. Нужно научится предсказывать возраст пользователя.\n",
    "\n",
    "\n"
   ]
  },
  {
   "cell_type": "code",
   "execution_count": 1,
   "metadata": {
    "collapsed": false
   },
   "outputs": [
    {
     "name": "stderr",
     "output_type": "stream",
     "text": [
      "/Users/Roman/anaconda/lib/python2.7/site-packages/sklearn/cross_validation.py:44: DeprecationWarning: This module was deprecated in version 0.18 in favor of the model_selection module into which all the refactored classes and functions are moved. Also note that the interface of the new CV iterators are different from that of this module. This module will be removed in 0.20.\n",
      "  \"This module will be removed in 0.20.\", DeprecationWarning)\n"
     ]
    }
   ],
   "source": [
    "import numpy as np\n",
    "import pandas as pd\n",
    "import matplotlib.pyplot as plt\n",
    "%matplotlib inline\n",
    "\n",
    "from sklearn.pipeline import Pipeline\n",
    "from sklearn.linear_model import LinearRegression\n",
    "from sklearn.cross_validation import cross_val_score\n",
    "from sklearn.feature_extraction.text import TfidfVectorizer\n",
    "from sklearn import manifold, decomposition, linear_model, ensemble, neighbors, cross_validation\n",
    "\n",
    "\n",
    "import seaborn as sns\n",
    "import xgboost\n",
    "import re\n",
    "import nltk\n",
    "import pymorphy2\n",
    "import enchant\n",
    "\n",
    "from heamy.dataset import Dataset\n",
    "from heamy.estimator import Regressor, Classifier\n",
    "from heamy.pipeline import ModelsPipeline"
   ]
  },
  {
   "cell_type": "markdown",
   "metadata": {},
   "source": [
    "$\\textbf{метрика RMSE}$"
   ]
  },
  {
   "cell_type": "code",
   "execution_count": 2,
   "metadata": {
    "collapsed": false
   },
   "outputs": [],
   "source": [
    "def rmse(x,y):\n",
    "    return np.mean((x - y) ** 2) ** 0.5"
   ]
  },
  {
   "cell_type": "markdown",
   "metadata": {},
   "source": [
    "загрузка данных url_domain_train"
   ]
  },
  {
   "cell_type": "code",
   "execution_count": 3,
   "metadata": {
    "collapsed": false
   },
   "outputs": [],
   "source": [
    "urls_train_df = pd.read_csv('data/url_domain_train.csv', header=None, delimiter='\\t')"
   ]
  },
  {
   "cell_type": "code",
   "execution_count": 4,
   "metadata": {
    "collapsed": false
   },
   "outputs": [
    {
     "data": {
      "text/html": [
       "<div>\n",
       "<table border=\"1\" class=\"dataframe\">\n",
       "  <thead>\n",
       "    <tr style=\"text-align: right;\">\n",
       "      <th></th>\n",
       "      <th>id</th>\n",
       "      <th>url</th>\n",
       "      <th>count</th>\n",
       "    </tr>\n",
       "  </thead>\n",
       "  <tbody>\n",
       "    <tr>\n",
       "      <th>0</th>\n",
       "      <td>000000014B60815F65B38258011B6C01</td>\n",
       "      <td>login.rutracker.org</td>\n",
       "      <td>1</td>\n",
       "    </tr>\n",
       "    <tr>\n",
       "      <th>1</th>\n",
       "      <td>000000014B60815F65B38258011B6C01</td>\n",
       "      <td>rutracker.org</td>\n",
       "      <td>4</td>\n",
       "    </tr>\n",
       "    <tr>\n",
       "      <th>2</th>\n",
       "      <td>000000014C03DA2A47AC433A0C755201</td>\n",
       "      <td>admin.tour-spb.net</td>\n",
       "      <td>1</td>\n",
       "    </tr>\n",
       "    <tr>\n",
       "      <th>3</th>\n",
       "      <td>000000014C03DA2A47AC433A0C755201</td>\n",
       "      <td>czinfo.ru</td>\n",
       "      <td>1</td>\n",
       "    </tr>\n",
       "    <tr>\n",
       "      <th>4</th>\n",
       "      <td>000000014C03DA2A47AC433A0C755201</td>\n",
       "      <td>forumsostav.ru</td>\n",
       "      <td>1</td>\n",
       "    </tr>\n",
       "  </tbody>\n",
       "</table>\n",
       "</div>"
      ],
      "text/plain": [
       "                                 id                  url  count\n",
       "0  000000014B60815F65B38258011B6C01  login.rutracker.org      1\n",
       "1  000000014B60815F65B38258011B6C01        rutracker.org      4\n",
       "2  000000014C03DA2A47AC433A0C755201   admin.tour-spb.net      1\n",
       "3  000000014C03DA2A47AC433A0C755201            czinfo.ru      1\n",
       "4  000000014C03DA2A47AC433A0C755201       forumsostav.ru      1"
      ]
     },
     "execution_count": 4,
     "metadata": {},
     "output_type": "execute_result"
    }
   ],
   "source": [
    "urls_train_df.columns = ['id', 'url', 'count']\n",
    "urls_train_df.head()"
   ]
  },
  {
   "cell_type": "markdown",
   "metadata": {},
   "source": [
    "нужно учесть count: разобьем url'ы на части: login.rutracker.org $\\to$ 'login rutracker org'"
   ]
  },
  {
   "cell_type": "code",
   "execution_count": 5,
   "metadata": {
    "collapsed": false
   },
   "outputs": [
    {
     "data": {
      "text/html": [
       "<div>\n",
       "<table border=\"1\" class=\"dataframe\">\n",
       "  <thead>\n",
       "    <tr style=\"text-align: right;\">\n",
       "      <th></th>\n",
       "      <th>id</th>\n",
       "      <th>url</th>\n",
       "      <th>count</th>\n",
       "      <th>array_of_url</th>\n",
       "    </tr>\n",
       "  </thead>\n",
       "  <tbody>\n",
       "    <tr>\n",
       "      <th>0</th>\n",
       "      <td>000000014B60815F65B38258011B6C01</td>\n",
       "      <td>login.rutracker.org</td>\n",
       "      <td>1</td>\n",
       "      <td>[login, rutracker, org]</td>\n",
       "    </tr>\n",
       "    <tr>\n",
       "      <th>1</th>\n",
       "      <td>000000014B60815F65B38258011B6C01</td>\n",
       "      <td>rutracker.org</td>\n",
       "      <td>4</td>\n",
       "      <td>[rutracker, org, rutracker, org, rutracker, or...</td>\n",
       "    </tr>\n",
       "    <tr>\n",
       "      <th>2</th>\n",
       "      <td>000000014C03DA2A47AC433A0C755201</td>\n",
       "      <td>admin.tour-spb.net</td>\n",
       "      <td>1</td>\n",
       "      <td>[admin, tour, spb, net]</td>\n",
       "    </tr>\n",
       "    <tr>\n",
       "      <th>3</th>\n",
       "      <td>000000014C03DA2A47AC433A0C755201</td>\n",
       "      <td>czinfo.ru</td>\n",
       "      <td>1</td>\n",
       "      <td>[czinfo, ru]</td>\n",
       "    </tr>\n",
       "    <tr>\n",
       "      <th>4</th>\n",
       "      <td>000000014C03DA2A47AC433A0C755201</td>\n",
       "      <td>forumsostav.ru</td>\n",
       "      <td>1</td>\n",
       "      <td>[forumsostav, ru]</td>\n",
       "    </tr>\n",
       "  </tbody>\n",
       "</table>\n",
       "</div>"
      ],
      "text/plain": [
       "                                 id                  url  count  \\\n",
       "0  000000014B60815F65B38258011B6C01  login.rutracker.org      1   \n",
       "1  000000014B60815F65B38258011B6C01        rutracker.org      4   \n",
       "2  000000014C03DA2A47AC433A0C755201   admin.tour-spb.net      1   \n",
       "3  000000014C03DA2A47AC433A0C755201            czinfo.ru      1   \n",
       "4  000000014C03DA2A47AC433A0C755201       forumsostav.ru      1   \n",
       "\n",
       "                                        array_of_url  \n",
       "0                            [login, rutracker, org]  \n",
       "1  [rutracker, org, rutracker, org, rutracker, or...  \n",
       "2                            [admin, tour, spb, net]  \n",
       "3                                       [czinfo, ru]  \n",
       "4                                  [forumsostav, ru]  "
      ]
     },
     "execution_count": 5,
     "metadata": {},
     "output_type": "execute_result"
    }
   ],
   "source": [
    "sep_tmp = urls_train_df\n",
    "sep_tmp['url'] = sep_tmp['url'].astype('str')\n",
    "sep_tmp['space'] = ' '\n",
    "sep_tmp['array_of_url'] = (sep_tmp['url'] + sep_tmp['space']).apply(lambda x: re.findall(r\"[\\w']+\",x)) * sep_tmp['count']\n",
    "sep_tmp.drop(['space'], axis = 1, inplace=True)\n",
    "sep_tmp.head()"
   ]
  },
  {
   "cell_type": "code",
   "execution_count": 6,
   "metadata": {
    "collapsed": false
   },
   "outputs": [
    {
     "data": {
      "text/html": [
       "<div>\n",
       "<table border=\"1\" class=\"dataframe\">\n",
       "  <thead>\n",
       "    <tr style=\"text-align: right;\">\n",
       "      <th></th>\n",
       "      <th>array_of_url</th>\n",
       "    </tr>\n",
       "    <tr>\n",
       "      <th>id</th>\n",
       "      <th></th>\n",
       "    </tr>\n",
       "  </thead>\n",
       "  <tbody>\n",
       "    <tr>\n",
       "      <th>000000013CB5719C0000A2C90002C101</th>\n",
       "      <td>[[id, rambler, ru], [mail, rambler, ru], [r0, ...</td>\n",
       "    </tr>\n",
       "    <tr>\n",
       "      <th>00000001442BE24000001B7D00F50801</th>\n",
       "      <td>[[1prime, ru], [autorambler, ru], [chellak, ru...</td>\n",
       "    </tr>\n",
       "    <tr>\n",
       "      <th>00000001448580F800003F1B31FB0901</th>\n",
       "      <td>[[bosch, korolev, ru]]</td>\n",
       "    </tr>\n",
       "    <tr>\n",
       "      <th>0000000145BDB2FF000157971645E901</th>\n",
       "      <td>[[aptekanizkihcen, ua], [colady, ru], [gorod, ...</td>\n",
       "    </tr>\n",
       "    <tr>\n",
       "      <th>000000014602771F0000DB9359714C01</th>\n",
       "      <td>[[astrorok, ru], [diets, ru], [edaplus, info],...</td>\n",
       "    </tr>\n",
       "  </tbody>\n",
       "</table>\n",
       "</div>"
      ],
      "text/plain": [
       "                                                                       array_of_url\n",
       "id                                                                                 \n",
       "000000013CB5719C0000A2C90002C101  [[id, rambler, ru], [mail, rambler, ru], [r0, ...\n",
       "00000001442BE24000001B7D00F50801  [[1prime, ru], [autorambler, ru], [chellak, ru...\n",
       "00000001448580F800003F1B31FB0901                             [[bosch, korolev, ru]]\n",
       "0000000145BDB2FF000157971645E901  [[aptekanizkihcen, ua], [colady, ru], [gorod, ...\n",
       "000000014602771F0000DB9359714C01  [[astrorok, ru], [diets, ru], [edaplus, info],..."
      ]
     },
     "execution_count": 6,
     "metadata": {},
     "output_type": "execute_result"
    }
   ],
   "source": [
    "sep_URLS = pd.DataFrame(sep_tmp.groupby('id').array_of_url.apply(lambda x: x.tolist()))\n",
    "sep_URLS.head()"
   ]
  },
  {
   "cell_type": "code",
   "execution_count": 7,
   "metadata": {
    "collapsed": true
   },
   "outputs": [],
   "source": [
    "def sep_f(x):\n",
    "    a = []\n",
    "    for i in range(len(x)):\n",
    "        for j in range(len(x[i])):\n",
    "            a.append(x[i][j])\n",
    "    return \" \".join(a)"
   ]
  },
  {
   "cell_type": "code",
   "execution_count": 8,
   "metadata": {
    "collapsed": true
   },
   "outputs": [],
   "source": [
    "sep_URLS['list'] = sep_URLS.array_of_url.apply(sep_f)\n",
    "sep_URLS.drop(['array_of_url'], axis = 1, inplace=True)\n",
    "sep_URLS['id'] = sep_URLS.index\n",
    "sep_URLS.index = range(len(sep_URLS))\n",
    "sep_URLS.columns = ['urls', 'id']"
   ]
  },
  {
   "cell_type": "code",
   "execution_count": 10,
   "metadata": {
    "collapsed": false
   },
   "outputs": [
    {
     "data": {
      "text/html": [
       "<div>\n",
       "<table border=\"1\" class=\"dataframe\">\n",
       "  <thead>\n",
       "    <tr style=\"text-align: right;\">\n",
       "      <th></th>\n",
       "      <th>id</th>\n",
       "      <th>age</th>\n",
       "    </tr>\n",
       "  </thead>\n",
       "  <tbody>\n",
       "    <tr>\n",
       "      <th>0</th>\n",
       "      <td>000000013CB5719C0000A2C90002C101</td>\n",
       "      <td>53</td>\n",
       "    </tr>\n",
       "    <tr>\n",
       "      <th>1</th>\n",
       "      <td>00000001442BE24000001B7D00F50801</td>\n",
       "      <td>48</td>\n",
       "    </tr>\n",
       "    <tr>\n",
       "      <th>2</th>\n",
       "      <td>00000001448580F800003F1B31FB0901</td>\n",
       "      <td>28</td>\n",
       "    </tr>\n",
       "    <tr>\n",
       "      <th>3</th>\n",
       "      <td>0000000145BDB2FF000157971645E901</td>\n",
       "      <td>44</td>\n",
       "    </tr>\n",
       "    <tr>\n",
       "      <th>4</th>\n",
       "      <td>000000014602771F0000DB9359714C01</td>\n",
       "      <td>48</td>\n",
       "    </tr>\n",
       "  </tbody>\n",
       "</table>\n",
       "</div>"
      ],
      "text/plain": [
       "                                 id  age\n",
       "0  000000013CB5719C0000A2C90002C101   53\n",
       "1  00000001442BE24000001B7D00F50801   48\n",
       "2  00000001448580F800003F1B31FB0901   28\n",
       "3  0000000145BDB2FF000157971645E901   44\n",
       "4  000000014602771F0000DB9359714C01   48"
      ]
     },
     "execution_count": 10,
     "metadata": {},
     "output_type": "execute_result"
    }
   ],
   "source": [
    "age_train_df = pd.read_csv('data/age_profile_train.csv', header=None, delimiter='\\t')\n",
    "age_train_df.columns = ['id', 'age']\n",
    "age_train_df.head()"
   ]
  },
  {
   "cell_type": "code",
   "execution_count": 12,
   "metadata": {
    "collapsed": false
   },
   "outputs": [
    {
     "data": {
      "text/plain": [
       "[<matplotlib.lines.Line2D at 0x100435290>]"
      ]
     },
     "execution_count": 12,
     "metadata": {},
     "output_type": "execute_result"
    },
    {
     "data": {
      "image/png": "[encoded data removed]",
      "text/plain": [
       "<matplotlib.figure.Figure at 0x13e09e210>"
      ]
     },
     "metadata": {},
     "output_type": "display_data"
    }
   ],
   "source": [
    "plt.subplot(2, 1, 1)\n",
    "plt.hist(age_train_df.age, bins=99)\n",
    "\n",
    "plt.subplot(2, 1, 2)\n",
    "plt.plot(age_train_df.groupby('age')['id'].count())"
   ]
  },
  {
   "cell_type": "code",
   "execution_count": 13,
   "metadata": {
    "collapsed": false
   },
   "outputs": [
    {
     "data": {
      "text/html": [
       "<div>\n",
       "<table border=\"1\" class=\"dataframe\">\n",
       "  <thead>\n",
       "    <tr style=\"text-align: right;\">\n",
       "      <th></th>\n",
       "      <th>urls</th>\n",
       "      <th>id</th>\n",
       "      <th>age</th>\n",
       "    </tr>\n",
       "  </thead>\n",
       "  <tbody>\n",
       "    <tr>\n",
       "      <th>0</th>\n",
       "      <td>id rambler ru mail rambler ru r0 ru</td>\n",
       "      <td>000000013CB5719C0000A2C90002C101</td>\n",
       "      <td>53</td>\n",
       "    </tr>\n",
       "    <tr>\n",
       "      <th>1</th>\n",
       "      <td>1prime ru autorambler ru chellak ru docs cntd ...</td>\n",
       "      <td>00000001442BE24000001B7D00F50801</td>\n",
       "      <td>48</td>\n",
       "    </tr>\n",
       "    <tr>\n",
       "      <th>2</th>\n",
       "      <td>bosch korolev ru</td>\n",
       "      <td>00000001448580F800003F1B31FB0901</td>\n",
       "      <td>28</td>\n",
       "    </tr>\n",
       "    <tr>\n",
       "      <th>3</th>\n",
       "      <td>aptekanizkihcen ua colady ru gorod dp ua i ovk...</td>\n",
       "      <td>0000000145BDB2FF000157971645E901</td>\n",
       "      <td>44</td>\n",
       "    </tr>\n",
       "    <tr>\n",
       "      <th>4</th>\n",
       "      <td>astrorok ru diets ru edaplus info eshzdorovo r...</td>\n",
       "      <td>000000014602771F0000DB9359714C01</td>\n",
       "      <td>48</td>\n",
       "    </tr>\n",
       "  </tbody>\n",
       "</table>\n",
       "</div>"
      ],
      "text/plain": [
       "                                                urls  \\\n",
       "0                id rambler ru mail rambler ru r0 ru   \n",
       "1  1prime ru autorambler ru chellak ru docs cntd ...   \n",
       "2                                   bosch korolev ru   \n",
       "3  aptekanizkihcen ua colady ru gorod dp ua i ovk...   \n",
       "4  astrorok ru diets ru edaplus info eshzdorovo r...   \n",
       "\n",
       "                                 id  age  \n",
       "0  000000013CB5719C0000A2C90002C101   53  \n",
       "1  00000001442BE24000001B7D00F50801   48  \n",
       "2  00000001448580F800003F1B31FB0901   28  \n",
       "3  0000000145BDB2FF000157971645E901   44  \n",
       "4  000000014602771F0000DB9359714C01   48  "
      ]
     },
     "execution_count": 13,
     "metadata": {},
     "output_type": "execute_result"
    }
   ],
   "source": [
    "sep_train_df = sep_URLS.merge(age_train_df, on = 'id', how='left')\n",
    "sep_train_df.head()"
   ]
  },
  {
   "cell_type": "markdown",
   "metadata": {},
   "source": [
    "#### стемминг слов"
   ]
  },
  {
   "cell_type": "code",
   "execution_count": 14,
   "metadata": {
    "collapsed": true
   },
   "outputs": [],
   "source": [
    "stemmer = nltk.stem.PorterStemmer()"
   ]
  },
  {
   "cell_type": "code",
   "execution_count": 15,
   "metadata": {
    "collapsed": true
   },
   "outputs": [],
   "source": [
    "def stemming(x):\n",
    "    ret_array = []\n",
    "    array = x.split(\" \")\n",
    "    for word in array:\n",
    "        ret_array.append(stemmer.stem(word))\n",
    "    return \" \".join(ret_array)"
   ]
  },
  {
   "cell_type": "code",
   "execution_count": 16,
   "metadata": {
    "collapsed": true
   },
   "outputs": [],
   "source": [
    "stem_train_df = sep_train_df.copy()\n",
    "stem_train_df.urls = stem_train_df.urls.apply(lambda x: stemming(x))\n",
    "sep_X = sep_train_df.urls\n",
    "y_urls = sep_train_df.age\n",
    "train = sep_train_df[['urls']]"
   ]
  },
  {
   "cell_type": "markdown",
   "metadata": {},
   "source": [
    "CV и стэккинг "
   ]
  },
  {
   "cell_type": "code",
   "execution_count": 17,
   "metadata": {
    "collapsed": false
   },
   "outputs": [
    {
     "data": {
      "text/plain": [
       "array([53, 48, 28, ..., 56, 31, 35])"
      ]
     },
     "execution_count": 17,
     "metadata": {},
     "output_type": "execute_result"
    }
   ],
   "source": [
    "train_data, test_data, y_train, y_test = cross_validation.train_test_split(train, y_urls, test_size = 0.33)\n",
    "y_urls.values"
   ]
  },
  {
   "cell_type": "code",
   "execution_count": 18,
   "metadata": {
    "collapsed": false
   },
   "outputs": [],
   "source": [
    "def lr_tfidf_fit_predict(X_train, y_train, X_test):\n",
    "    model = linear_model.SGDRegressor(alpha = 0.00005, n_iter=200)\n",
    "    model.fit(X_train, y_train)\n",
    "    print \"lr_tfidf fitted\"\n",
    "    return model.predict(X_test)\n",
    "\n",
    "def rf_tfidf_fit_predict(X_train, y_train, X_test):\n",
    "    model = ensemble.RandomForestRegressor(n_estimators=160, max_depth=20, n_jobs=-1)\n",
    "    model.fit(X_train, y_train)\n",
    "    print \"rf_tfidf fitted\"\n",
    "    return model.predict(X_test)\n",
    "\n",
    "def xgb(X_train, y_train, X_test):\n",
    "    model = Pipeline([('svd', decomposition.TruncatedSVD(n_components=150)),\n",
    "                            ('xgb', xgboost.XGBRegressor(max_depth=8, learning_rate=0.05, n_estimators=300))])\n",
    "    model.fit(X_train, y_train)\n",
    "    print \"svd_lr fitted\"\n",
    "    return model.predict(X_test)\n",
    "\n",
    "def svd_50_rf(X_train, y_train, X_test):\n",
    "    model = Pipeline([('svd', decomposition.TruncatedSVD(n_components = 50)),\n",
    "                            ('rf', ensemble.RandomForestRegressor(n_estimators=150, max_depth=20, n_jobs=-1))])\n",
    "    model.fit(X_train, y_train)\n",
    "    print \"svd_50_rf fitted\"\n",
    "    return model.predict(X_test)\n",
    "\n",
    "\n",
    "def svd_200_rf(X_train, y_train, X_test):\n",
    "    model = Pipeline([('svd', decomposition.TruncatedSVD(n_components=100)),\n",
    "                            ('rf', ensemble.RandomForestRegressor(n_estimators=100, max_depth=20, n_jobs=-1))])\n",
    "    model.fit(X_train, y_train)\n",
    "    print \"svd_200_rf fitted\"\n",
    "    return model.predict(X_test)\n",
    "\n",
    "models = [lr_tfidf_fit_predict, rf_tfidf_fit_predict, xgb, svd_50_rf, svd_200_rf]"
   ]
  },
  {
   "cell_type": "code",
   "execution_count": null,
   "metadata": {
    "collapsed": false
   },
   "outputs": [],
   "source": [
    "tfidf = TfidfVectorizer(analyzer = u'char', ngram_range=(1,3))\n",
    "train = tfidf.fit_transform(train_data.urls)\n",
    "test = tfidf.transform(test_data.urls)\n",
    "\n",
    "for estimator in models:\n",
    "    print rmse(y_test, estimator(train, y_train, test))"
   ]
  },
  {
   "cell_type": "markdown",
   "metadata": {},
   "source": [
    "#### Теперь загрузим title_unify_train"
   ]
  },
  {
   "cell_type": "code",
   "execution_count": 19,
   "metadata": {
    "collapsed": false
   },
   "outputs": [
    {
     "data": {
      "text/html": [
       "<div>\n",
       "<table border=\"1\" class=\"dataframe\">\n",
       "  <thead>\n",
       "    <tr style=\"text-align: right;\">\n",
       "      <th></th>\n",
       "      <th>0</th>\n",
       "      <th>1</th>\n",
       "      <th>2</th>\n",
       "    </tr>\n",
       "  </thead>\n",
       "  <tbody>\n",
       "    <tr>\n",
       "      <th>0</th>\n",
       "      <td>000000014B6D41C13D777E8314725401</td>\n",
       "      <td>коляна лента прикол</td>\n",
       "      <td>1</td>\n",
       "    </tr>\n",
       "    <tr>\n",
       "      <th>1</th>\n",
       "      <td>0000000150707ACB8A82451C0307BC01</td>\n",
       "      <td>candi410 rambler ru входящая рамблер-почта</td>\n",
       "      <td>1</td>\n",
       "    </tr>\n",
       "    <tr>\n",
       "      <th>2</th>\n",
       "      <td>0000000150707ACB8A82451C0307BC01</td>\n",
       "      <td>cosmopolitan витамин волос для женщина журнал ...</td>\n",
       "      <td>1</td>\n",
       "    </tr>\n",
       "    <tr>\n",
       "      <th>3</th>\n",
       "      <td>0000000150707ACB8A82451C0307BC01</td>\n",
       "      <td>realbox бокс для интернет-магазин страница тов...</td>\n",
       "      <td>1</td>\n",
       "    </tr>\n",
       "    <tr>\n",
       "      <th>4</th>\n",
       "      <td>0000000150707ACB8A82451C0307BC01</td>\n",
       "      <td>realbox бокс для интернет-магазин товар экипир...</td>\n",
       "      <td>2</td>\n",
       "    </tr>\n",
       "  </tbody>\n",
       "</table>\n",
       "</div>"
      ],
      "text/plain": [
       "                                  0  \\\n",
       "0  000000014B6D41C13D777E8314725401   \n",
       "1  0000000150707ACB8A82451C0307BC01   \n",
       "2  0000000150707ACB8A82451C0307BC01   \n",
       "3  0000000150707ACB8A82451C0307BC01   \n",
       "4  0000000150707ACB8A82451C0307BC01   \n",
       "\n",
       "                                                   1  2  \n",
       "0                                коляна лента прикол  1  \n",
       "1         candi410 rambler ru входящая рамблер-почта  1  \n",
       "2  cosmopolitan витамин волос для женщина журнал ...  1  \n",
       "3  realbox бокс для интернет-магазин страница тов...  1  \n",
       "4  realbox бокс для интернет-магазин товар экипир...  2  "
      ]
     },
     "execution_count": 19,
     "metadata": {},
     "output_type": "execute_result"
    }
   ],
   "source": [
    "title_train = pd.read_csv('data/title_unify_train.csv', header=None, sep='\\t')\n",
    "title_train.head()"
   ]
  },
  {
   "cell_type": "code",
   "execution_count": 20,
   "metadata": {
    "collapsed": false
   },
   "outputs": [],
   "source": [
    "title_train.columns = ['id', 'unify', 'count']"
   ]
  },
  {
   "cell_type": "code",
   "execution_count": 21,
   "metadata": {
    "collapsed": false
   },
   "outputs": [
    {
     "data": {
      "text/html": [
       "<div>\n",
       "<table border=\"1\" class=\"dataframe\">\n",
       "  <thead>\n",
       "    <tr style=\"text-align: right;\">\n",
       "      <th></th>\n",
       "      <th>id</th>\n",
       "      <th>unify</th>\n",
       "      <th>count</th>\n",
       "      <th>array_of_unify</th>\n",
       "    </tr>\n",
       "  </thead>\n",
       "  <tbody>\n",
       "    <tr>\n",
       "      <th>0</th>\n",
       "      <td>000000014B6D41C13D777E8314725401</td>\n",
       "      <td>коляна лента прикол</td>\n",
       "      <td>1</td>\n",
       "      <td>[коляна, лента, прикол]</td>\n",
       "    </tr>\n",
       "    <tr>\n",
       "      <th>1</th>\n",
       "      <td>0000000150707ACB8A82451C0307BC01</td>\n",
       "      <td>candi410 rambler ru входящая рамблер-почта</td>\n",
       "      <td>1</td>\n",
       "      <td>[candi410, rambler, ru, входящая, рамблер-почта]</td>\n",
       "    </tr>\n",
       "    <tr>\n",
       "      <th>2</th>\n",
       "      <td>0000000150707ACB8A82451C0307BC01</td>\n",
       "      <td>cosmopolitan витамин волос для женщина журнал ...</td>\n",
       "      <td>1</td>\n",
       "      <td>[cosmopolitan, витамин, волос, для, женщина, ж...</td>\n",
       "    </tr>\n",
       "    <tr>\n",
       "      <th>3</th>\n",
       "      <td>0000000150707ACB8A82451C0307BC01</td>\n",
       "      <td>realbox бокс для интернет-магазин страница тов...</td>\n",
       "      <td>1</td>\n",
       "      <td>[realbox, бокс, для, интернет-магазин, страниц...</td>\n",
       "    </tr>\n",
       "    <tr>\n",
       "      <th>4</th>\n",
       "      <td>0000000150707ACB8A82451C0307BC01</td>\n",
       "      <td>realbox бокс для интернет-магазин товар экипир...</td>\n",
       "      <td>2</td>\n",
       "      <td>[realbox, бокс, для, интернет-магазин, товар, ...</td>\n",
       "    </tr>\n",
       "  </tbody>\n",
       "</table>\n",
       "</div>"
      ],
      "text/plain": [
       "                                 id  \\\n",
       "0  000000014B6D41C13D777E8314725401   \n",
       "1  0000000150707ACB8A82451C0307BC01   \n",
       "2  0000000150707ACB8A82451C0307BC01   \n",
       "3  0000000150707ACB8A82451C0307BC01   \n",
       "4  0000000150707ACB8A82451C0307BC01   \n",
       "\n",
       "                                               unify  count  \\\n",
       "0                                коляна лента прикол      1   \n",
       "1         candi410 rambler ru входящая рамблер-почта      1   \n",
       "2  cosmopolitan витамин волос для женщина журнал ...      1   \n",
       "3  realbox бокс для интернет-магазин страница тов...      1   \n",
       "4  realbox бокс для интернет-магазин товар экипир...      2   \n",
       "\n",
       "                                      array_of_unify  \n",
       "0                            [коляна, лента, прикол]  \n",
       "1   [candi410, rambler, ru, входящая, рамблер-почта]  \n",
       "2  [cosmopolitan, витамин, волос, для, женщина, ж...  \n",
       "3  [realbox, бокс, для, интернет-магазин, страниц...  \n",
       "4  [realbox, бокс, для, интернет-магазин, товар, ...  "
      ]
     },
     "execution_count": 21,
     "metadata": {},
     "output_type": "execute_result"
    }
   ],
   "source": [
    "tmp = title_train\n",
    "tmp['unify'] = tmp['unify'].astype('str')\n",
    "tmp['space'] = ' '\n",
    "tmp['array_of_unify'] = (tmp['unify'] + tmp['space']).apply(lambda x: x.split(' ')[:-1]) * tmp['count']\n",
    "tmp.drop(['space'], axis = 1, inplace=True)\n",
    "tmp.head()"
   ]
  },
  {
   "cell_type": "code",
   "execution_count": 23,
   "metadata": {
    "collapsed": false
   },
   "outputs": [],
   "source": [
    "UNIFY = pd.DataFrame(tmp.groupby('id').array_of_unify.apply(lambda x: x.tolist()))\n",
    "UNIFY['list'] = UNIFY.array_of_unify.apply(sep_f)\n",
    "UNIFY.drop(['array_of_unify'], axis = 1, inplace=True)"
   ]
  },
  {
   "cell_type": "code",
   "execution_count": 24,
   "metadata": {
    "collapsed": false
   },
   "outputs": [
    {
     "data": {
      "text/html": [
       "<div>\n",
       "<table border=\"1\" class=\"dataframe\">\n",
       "  <thead>\n",
       "    <tr style=\"text-align: right;\">\n",
       "      <th></th>\n",
       "      <th>unify</th>\n",
       "      <th>id</th>\n",
       "    </tr>\n",
       "  </thead>\n",
       "  <tbody>\n",
       "    <tr>\n",
       "      <th>0</th>\n",
       "      <td>бесплатный надёжный почта рамблер электронный ...</td>\n",
       "      <td>000000013CB5719C0000A2C90002C101</td>\n",
       "    </tr>\n",
       "    <tr>\n",
       "      <th>1</th>\n",
       "      <td>24-х 34-х до договор неделя новость предложить...</td>\n",
       "      <td>00000001442BE24000001B7D00F50801</td>\n",
       "    </tr>\n",
       "    <tr>\n",
       "      <th>2</th>\n",
       "      <td>авто бош контакт королёв сервис авто бош корол...</td>\n",
       "      <td>00000001448580F800003F1B31FB0901</td>\n",
       "    </tr>\n",
       "    <tr>\n",
       "      <th>3</th>\n",
       "      <td>ua втрать війни донбасі за на новини озвучить ...</td>\n",
       "      <td>0000000145BDB2FF000157971645E901</td>\n",
       "    </tr>\n",
       "    <tr>\n",
       "      <th>4</th>\n",
       "      <td>black walnut грецкий орех чёрный inmoment ru w...</td>\n",
       "      <td>000000014602771F0000DB9359714C01</td>\n",
       "    </tr>\n",
       "  </tbody>\n",
       "</table>\n",
       "</div>"
      ],
      "text/plain": [
       "                                               unify  \\\n",
       "0  бесплатный надёжный почта рамблер электронный ...   \n",
       "1  24-х 34-х до договор неделя новость предложить...   \n",
       "2  авто бош контакт королёв сервис авто бош корол...   \n",
       "3  ua втрать війни донбасі за на новини озвучить ...   \n",
       "4  black walnut грецкий орех чёрный inmoment ru w...   \n",
       "\n",
       "                                 id  \n",
       "0  000000013CB5719C0000A2C90002C101  \n",
       "1  00000001442BE24000001B7D00F50801  \n",
       "2  00000001448580F800003F1B31FB0901  \n",
       "3  0000000145BDB2FF000157971645E901  \n",
       "4  000000014602771F0000DB9359714C01  "
      ]
     },
     "execution_count": 24,
     "metadata": {},
     "output_type": "execute_result"
    }
   ],
   "source": [
    "UNIFY['id'] = UNIFY.index\n",
    "UNIFY.index = range(len(UNIFY))\n",
    "UNIFY.columns = ['unify', 'id']\n",
    "UNIFY.head()"
   ]
  },
  {
   "cell_type": "code",
   "execution_count": 25,
   "metadata": {
    "collapsed": false
   },
   "outputs": [
    {
     "data": {
      "text/html": [
       "<div>\n",
       "<table border=\"1\" class=\"dataframe\">\n",
       "  <thead>\n",
       "    <tr style=\"text-align: right;\">\n",
       "      <th></th>\n",
       "      <th>unify</th>\n",
       "      <th>id</th>\n",
       "      <th>age</th>\n",
       "    </tr>\n",
       "  </thead>\n",
       "  <tbody>\n",
       "    <tr>\n",
       "      <th>0</th>\n",
       "      <td>бесплатный надёжный почта рамблер электронный ...</td>\n",
       "      <td>000000013CB5719C0000A2C90002C101</td>\n",
       "      <td>53</td>\n",
       "    </tr>\n",
       "    <tr>\n",
       "      <th>1</th>\n",
       "      <td>24-х 34-х до договор неделя новость предложить...</td>\n",
       "      <td>00000001442BE24000001B7D00F50801</td>\n",
       "      <td>48</td>\n",
       "    </tr>\n",
       "    <tr>\n",
       "      <th>2</th>\n",
       "      <td>авто бош контакт королёв сервис авто бош корол...</td>\n",
       "      <td>00000001448580F800003F1B31FB0901</td>\n",
       "      <td>28</td>\n",
       "    </tr>\n",
       "    <tr>\n",
       "      <th>3</th>\n",
       "      <td>ua втрать війни донбасі за на новини озвучить ...</td>\n",
       "      <td>0000000145BDB2FF000157971645E901</td>\n",
       "      <td>44</td>\n",
       "    </tr>\n",
       "    <tr>\n",
       "      <th>4</th>\n",
       "      <td>black walnut грецкий орех чёрный inmoment ru w...</td>\n",
       "      <td>000000014602771F0000DB9359714C01</td>\n",
       "      <td>48</td>\n",
       "    </tr>\n",
       "  </tbody>\n",
       "</table>\n",
       "</div>"
      ],
      "text/plain": [
       "                                               unify  \\\n",
       "0  бесплатный надёжный почта рамблер электронный ...   \n",
       "1  24-х 34-х до договор неделя новость предложить...   \n",
       "2  авто бош контакт королёв сервис авто бош корол...   \n",
       "3  ua втрать війни донбасі за на новини озвучить ...   \n",
       "4  black walnut грецкий орех чёрный inmoment ru w...   \n",
       "\n",
       "                                 id  age  \n",
       "0  000000013CB5719C0000A2C90002C101   53  \n",
       "1  00000001442BE24000001B7D00F50801   48  \n",
       "2  00000001448580F800003F1B31FB0901   28  \n",
       "3  0000000145BDB2FF000157971645E901   44  \n",
       "4  000000014602771F0000DB9359714C01   48  "
      ]
     },
     "execution_count": 25,
     "metadata": {},
     "output_type": "execute_result"
    }
   ],
   "source": [
    "train_un = UNIFY.merge(age_train_df, on='id', how='left')\n",
    "train_un.head()"
   ]
  },
  {
   "cell_type": "code",
   "execution_count": 29,
   "metadata": {
    "collapsed": true
   },
   "outputs": [],
   "source": [
    "morph = pymorphy2.MorphAnalyzer()"
   ]
  },
  {
   "cell_type": "code",
   "execution_count": 30,
   "metadata": {
    "collapsed": false
   },
   "outputs": [],
   "source": [
    "def norm_form(x):\n",
    "    tmp = \" \".join(x)\n",
    "    string = unicode(tmp,'utf-8','ignore')\n",
    "    p = morph.parse(string)[0]\n",
    "    return p.normal_form"
   ]
  },
  {
   "cell_type": "code",
   "execution_count": null,
   "metadata": {
    "collapsed": false
   },
   "outputs": [],
   "source": [
    "train_morph = train_un.copy()\n",
    "train_morph.unify = train_morph.unify.apply(lambda x: norm_form(x))\n",
    "\n",
    "tfidf = sklearn.feature_extraction.text.TfidfVectorizer()\n",
    "morph_X = tfidf.fit_transform(train_morph.unify)"
   ]
  },
  {
   "cell_type": "code",
   "execution_count": null,
   "metadata": {
    "collapsed": true
   },
   "outputs": [],
   "source": [
    "morph_y = train_morph.age"
   ]
  },
  {
   "cell_type": "code",
   "execution_count": null,
   "metadata": {
    "collapsed": false
   },
   "outputs": [],
   "source": [
    "score = []\n",
    "\n",
    "for k in range(5):\n",
    "    mean = []\n",
    "    for i in range(5):\n",
    "        train_data, test_data, y_train, y_test = cross_validation.train_test_split(morph_X, y,\\\n",
    "                                                                                    test_size = 0.3)\n",
    "        \n",
    "        lin_reg = linear_model.SGDRegressor(n_iter=550, alpha=0.00003)\n",
    "        lin_reg.fit(train_data, y_train)\n",
    "        print rmse(lin_reg.predict(test_data), y_test)\n",
    "        mean.append(rmse(lin_reg.predict(test_data), y_test))\n",
    "        \n",
    "    score.append(np.mean(mean))\n",
    "print np.mean(score)"
   ]
  }
 ],
 "metadata": {
  "anaconda-cloud": {},
  "kernelspec": {
   "display_name": "Python 3",
   "language": "python",
   "name": "python3"
  },
  "language_info": {
   "codemirror_mode": {
    "name": "ipython",
    "version": 3
   },
   "file_extension": ".py",
   "mimetype": "text/x-python",
   "name": "python",
   "nbconvert_exporter": "python",
   "pygments_lexer": "ipython3",
   "version": "3.6.0"
  }
 },
 "nbformat": 4,
 "nbformat_minor": 1
}
