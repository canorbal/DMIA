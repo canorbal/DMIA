{
 "cells": [
  {
   "cell_type": "code",
   "execution_count": 1,
   "metadata": {
    "collapsed": false
   },
   "outputs": [
    {
     "name": "stderr",
     "output_type": "stream",
     "text": [
      "/usr/local/lib/python2.7/dist-packages/sklearn/cross_validation.py:44: DeprecationWarning: This module was deprecated in version 0.18 in favor of the model_selection module into which all the refactored classes and functions are moved. Also note that the interface of the new CV iterators are different from that of this module. This module will be removed in 0.20.\n",
      "  \"This module will be removed in 0.20.\", DeprecationWarning)\n"
     ]
    }
   ],
   "source": [
    "import numpy as np\n",
    "import xgboost as xgb\n",
    "import pandas as pd\n",
    "import seaborn as sns\n",
    "import matplotlib.pyplot as plt\n",
    "import matplotlib.cm as cm\n",
    "\n",
    "from steveml.preprocessing import calculate_statistics, calculate_counts\n",
    "\n",
    "%matplotlib inline\n",
    "\n",
    "from sklearn.preprocessing import OneHotEncoder"
   ]
  },
  {
   "cell_type": "code",
   "execution_count": 5,
   "metadata": {
    "collapsed": false
   },
   "outputs": [],
   "source": [
    "from theano import "
   ]
  },
  {
   "cell_type": "code",
   "execution_count": 109,
   "metadata": {
    "collapsed": true
   },
   "outputs": [],
   "source": [
    "def submit(preds, fname=None):\n",
    "    from datetime import datetime, timedelta\n",
    "\n",
    "    n = datetime.now() + timedelta(hours=3)\n",
    "    submission = pd.read_csv('../sample_submission.csv')\n",
    "    for i in range(3):\n",
    "        submission['predict_' + str(i)] = preds[:, i]\n",
    "    if fname is None:\n",
    "        submission.to_csv('../submissions/submission ({0}).csv'.format(n.strftime(\"%d-%m-%Y %H:%M\")), index=0)\n",
    "    else:\n",
    "        submission.to_csv('../submissions/submission ({0}).csv'.format(fname), index=0)"
   ]
  },
  {
   "cell_type": "code",
   "execution_count": 3,
   "metadata": {
    "collapsed": false
   },
   "outputs": [],
   "source": [
    "train = pd.read_csv('../data/final_train1.csv')\n",
    "test = pd.read_csv('../data/final_test1.csv')\n",
    "\n",
    "labels = np.loadtxt('../data/labels.csv').astype(int)"
   ]
  },
  {
   "cell_type": "markdown",
   "metadata": {},
   "source": [
    "### Подтюним модели"
   ]
  },
  {
   "cell_type": "code",
   "execution_count": 112,
   "metadata": {
    "collapsed": false
   },
   "outputs": [
    {
     "name": "stdout",
     "output_type": "stream",
     "text": [
      "-0.636592250398\n"
     ]
    },
    {
     "name": "stderr",
     "output_type": "stream",
     "text": [
      "[Parallel(n_jobs=-1)]: Done   5 out of   5 | elapsed:    3.2s finished\n"
     ]
    }
   ],
   "source": [
    "from sklearn.linear_model import LogisticRegression\n",
    "from sklearn.cross_validation import cross_val_score\n",
    "from sklearn.preprocessing import scale\n",
    "\n",
    "clf = LogisticRegression(C=1e-2, penalty='l1')\n",
    "print cross_val_score(clf, scale(train), labels, scoring='neg_log_loss', cv=5, verbose=1, n_jobs=-1).mean()"
   ]
  },
  {
   "cell_type": "code",
   "execution_count": null,
   "metadata": {
    "collapsed": true
   },
   "outputs": [],
   "source": [
    "%%time\n",
    "params = {}\n",
    "params['objective'] = 'multi:softprob'\n",
    "params['num_class'] = 3\n",
    "params['eta'] = 0.2 # 0.02\n",
    "params['numrounds'] = 150 # 1100\n",
    "params['eval_metric'] = 'mlogloss'\n",
    "params['max_depth'] = 5 # 5\n",
    "params['subsample'] = 1.0\n",
    "params['colsample_bytree'] = 1.0 #.75 \n",
    "params['nthread'] = 64\n",
    "#params['min_child_weight'] = 15\n",
    "#params['gamma'] = 1.0\n",
    "params['seed'] = 1\n",
    "\n",
    "\n",
    "xgtrain = xgb.DMatrix(train, labels)\n",
    "\n",
    "t = xgb.cv(params, xgtrain, num_boost_round=params['numrounds'], nfold=5, show_stdv=0, seed=0, verbose_eval=10)\n",
    "print t['test-mlogloss-mean'].min()\n",
    "print t['test-mlogloss-mean'].argmin() + 1"
   ]
  },
  {
   "cell_type": "code",
   "execution_count": 76,
   "metadata": {
    "collapsed": false
   },
   "outputs": [
    {
     "name": "stdout",
     "output_type": "stream",
     "text": [
      "[0]\ttrain-mlogloss:1.08383\ttest-mlogloss:1.08439\n",
      "[100]\ttrain-mlogloss:0.527111\ttest-mlogloss:0.568164\n",
      "[200]\ttrain-mlogloss:0.42005\ttest-mlogloss:0.486308\n",
      "[300]\ttrain-mlogloss:0.378318\ttest-mlogloss:0.461531\n",
      "[400]\ttrain-mlogloss:0.356095\ttest-mlogloss:0.451761\n",
      "[500]\ttrain-mlogloss:0.338759\ttest-mlogloss:0.445503\n",
      "[600]\ttrain-mlogloss:0.323423\ttest-mlogloss:0.441066\n",
      "[700]\ttrain-mlogloss:0.310284\ttest-mlogloss:0.437908\n",
      "[800]\ttrain-mlogloss:0.298288\ttest-mlogloss:0.435442\n",
      "[900]\ttrain-mlogloss:0.287201\ttest-mlogloss:0.433748\n",
      "[1000]\ttrain-mlogloss:0.276755\ttest-mlogloss:0.432181\n",
      "[1100]\ttrain-mlogloss:0.267358\ttest-mlogloss:0.431274\n",
      "[1200]\ttrain-mlogloss:0.258248\ttest-mlogloss:0.430699\n",
      "[1300]\ttrain-mlogloss:0.249997\ttest-mlogloss:0.430431\n",
      "[1400]\ttrain-mlogloss:0.242288\ttest-mlogloss:0.430236\n",
      "0.430149\n",
      "1458\n",
      "CPU times: user 3h 40min 9s, sys: 20.3 s, total: 3h 40min 30s\n",
      "Wall time: 3min 30s\n"
     ]
    }
   ],
   "source": [
    "%%time\n",
    "params = {}\n",
    "params['objective'] = 'multi:softprob'\n",
    "params['num_class'] = 3\n",
    "params['eta'] = 0.02 # 0.02\n",
    "params['numrounds'] = 1500 # 1100\n",
    "params['eval_metric'] = 'mlogloss'\n",
    "params['max_depth'] = 5 # 5\n",
    "params['subsample'] = 1.0\n",
    "params['colsample_bytree'] = 1.0 #.75 \n",
    "params['nthread'] = 64\n",
    "#params['min_child_weight'] = 15\n",
    "#params['gamma'] = 1.0\n",
    "params['seed'] = 1\n",
    "\n",
    "\n",
    "xgtrain = xgb.DMatrix(train, labels)\n",
    "\n",
    "t = xgb.cv(params, xgtrain, num_boost_round=params['numrounds'], nfold=5, show_stdv=0, seed=0, verbose_eval=100)\n",
    "print t['test-mlogloss-mean'].min()\n",
    "print t['test-mlogloss-mean'].argmin() + 1"
   ]
  },
  {
   "cell_type": "code",
   "execution_count": 100,
   "metadata": {
    "collapsed": false
   },
   "outputs": [
    {
     "name": "stdout",
     "output_type": "stream",
     "text": [
      "-0.468576412101\n"
     ]
    },
    {
     "name": "stderr",
     "output_type": "stream",
     "text": [
      "[Parallel(n_jobs=1)]: Done   5 out of   5 | elapsed:    8.3s finished\n"
     ]
    }
   ],
   "source": [
    "from sklearn.ensemble import ExtraTreesClassifier, RandomForestClassifier\n",
    "from sklearn.cross_validation import cross_val_score\n",
    "\n",
    "et = ExtraTreesClassifier(n_estimators=100, n_jobs=-1, bootstrap=True\n",
    "                          max_features=0.3, \n",
    "                          max_depth=25, \n",
    "                          criterion='gini',\n",
    "                         )\n",
    "print cross_val_score(et, train, labels, scoring='neg_log_loss', cv=5, verbose=1).mean()"
   ]
  },
  {
   "cell_type": "markdown",
   "metadata": {},
   "source": [
    "### Делаем предсказания моделей первого уровня"
   ]
  },
  {
   "cell_type": "code",
   "execution_count": 33,
   "metadata": {
    "collapsed": false
   },
   "outputs": [],
   "source": [
    "from sklearn.cross_validation import KFold\n",
    "from sklearn.model_selection import cross_val_predict\n",
    "from sklearn.base import BaseEstimator\n",
    "from sklearn.ensemble import ExtraTreesClassifier\n",
    "\n",
    "class ProbaEstimator(BaseEstimator):\n",
    "    def __init__(self, estimator):\n",
    "        self.estimator = estimator\n",
    "    def fit(self, X, y):\n",
    "        self.estimator.fit(X, y)\n",
    "    def predict(self, X):\n",
    "        \n",
    "        \n",
    "        return self.estimator.predict_proba(X)\n",
    "    \n",
    "et = ExtraTreesClassifier(n_estimators=2000, n_jobs=-1, bootstrap=True, max_features=0.3, \n",
    "                          max_depth=25, criterion='gini')\n",
    "\n",
    "cv = KFold(train.shape[0], n_folds=5, random_state=42)\n",
    "preds_train = cross_val_predict(et, train, labels, cv=cv, method='predict_proba')\n",
    "preds_test = et.fit(train, labels).predict_proba(test)\n",
    "np.savetxt('../stacking/et_train.csv', preds_train)\n",
    "np.savetxt('../stacking/et_test.csv', preds_test)"
   ]
  },
  {
   "cell_type": "code",
   "execution_count": 65,
   "metadata": {
    "collapsed": false
   },
   "outputs": [],
   "source": [
    "from sklearn.cross_validation import KFold\n",
    "from sklearn.model_selection import cross_val_predict\n",
    "\n",
    "cv = KFold(train.shape[0], n_folds=5, random_state=42)\n",
    "\n",
    "clf = LogisticRegression(C=1e-2, penalty='l1')\n",
    "\n",
    "preds_train = cross_val_predict(clf, train, labels, cv=cv, method='predict_proba')\n",
    "preds_test = clf.fit(train, labels).predict_proba(test)\n",
    "np.savetxt('../stacking/lr_train.csv', preds_train)\n",
    "np.savetxt('../stacking/lr_test.csv', preds_test)"
   ]
  },
  {
   "cell_type": "code",
   "execution_count": null,
   "metadata": {
    "collapsed": true
   },
   "outputs": [],
   "source": [
    "clf = xgb.XGBClassifier(learning_rate=0.2, n_estimators=150, objective='multi:softprob', \n",
    "                        max_depth=5, colsample_bytree=0.75)\n",
    "\n",
    "preds_train = cross_val_predict(clf, train, labels, cv=cv, method='predict_proba')\n",
    "preds_test = clf.fit(train, labels).predict_proba(test)\n",
    "np.savetxt('../stacking/xgboost_maxdepth5_train.csv', preds_train)\n",
    "np.savetxt('../stacking/xgboost_maxdepth5_test.csv', preds_test)"
   ]
  },
  {
   "cell_type": "markdown",
   "metadata": {},
   "source": [
    "### Загружаем предсказания моделей первого уровня"
   ]
  },
  {
   "cell_type": "code",
   "execution_count": 83,
   "metadata": {
    "collapsed": false
   },
   "outputs": [],
   "source": [
    "et_preds = np.loadtxt('../stacking/et_train.csv')\n",
    "xgb_preds = np.loadtxt('../stacking/xgboost_maxdepth5_train.csv')\n",
    "lr_preds = np.loadtxt('../stacking/lr_train.csv')\n",
    "\n",
    "train_stack = pd.DataFrame(np.hstack([et_preds, xgb_preds, ]))\n",
    "\n",
    "et_preds_test = np.loadtxt('../stacking/et_test.csv')\n",
    "xgb_preds_test = np.loadtxt('../stacking/xgboost_maxdepth5_test.csv')\n",
    "\n",
    "test_stack = pd.DataFrame(np.hstack([et_preds_test, xgb_preds_test, ]))"
   ]
  },
  {
   "cell_type": "code",
   "execution_count": 86,
   "metadata": {
    "collapsed": false
   },
   "outputs": [
    {
     "name": "stdout",
     "output_type": "stream",
     "text": [
      "0.4262\n",
      "0.7576\n"
     ]
    },
    {
     "data": {
      "image/png": "[encoded data removed]",
      "text/plain": [
       "<matplotlib.figure.Figure at 0x7f7795534f10>"
      ]
     },
     "metadata": {},
     "output_type": "display_data"
    }
   ],
   "source": [
    "from sklearn.metrics import log_loss\n",
    "\n",
    "weights = np.linspace(0, 1, 100)\n",
    "scores = np.zeros_like(weights)\n",
    "for index, alpha in enumerate(weights):\n",
    "    preds = alpha * xgb_preds + (1-alpha) * et_preds\n",
    "    scores[index] = log_loss(labels, preds)\n",
    "plt.plot(weights, scores)\n",
    "print \"{0:.4f}\".format(np.min(scores))\n",
    "print \"{0:.4f}\".format(weights[np.argmin(scores)])"
   ]
  },
  {
   "cell_type": "code",
   "execution_count": 114,
   "metadata": {
    "collapsed": true
   },
   "outputs": [],
   "source": [
    "alpha = 0.7576\n",
    "preds_blend = alpha * xgb_preds_test + (1-alpha) * et_preds_test\n",
    "submit(preds_blend, \"blend\")"
   ]
  },
  {
   "cell_type": "code",
   "execution_count": 115,
   "metadata": {
    "collapsed": false
   },
   "outputs": [
    {
     "name": "stdout",
     "output_type": "stream",
     "text": [
      "[0]\ttrain-mlogloss:1.01129\ttest-mlogloss:1.01186\n",
      "[10]\ttrain-mlogloss:0.598026\ttest-mlogloss:0.603271\n",
      "[20]\ttrain-mlogloss:0.479781\ttest-mlogloss:0.488022\n",
      "[30]\ttrain-mlogloss:0.438956\ttest-mlogloss:0.449607\n",
      "[40]\ttrain-mlogloss:0.422171\ttest-mlogloss:0.435255\n",
      "[50]\ttrain-mlogloss:0.413843\ttest-mlogloss:0.429286\n",
      "[60]\ttrain-mlogloss:0.408612\ttest-mlogloss:0.42678\n",
      "[70]\ttrain-mlogloss:0.404693\ttest-mlogloss:0.425379\n",
      "[80]\ttrain-mlogloss:0.401486\ttest-mlogloss:0.424818\n",
      "[90]\ttrain-mlogloss:0.39863\ttest-mlogloss:0.424452\n",
      "0.4243926\n",
      "92\n"
     ]
    },
    {
     "data": {
      "image/png": "[encoded data removed]",
      "text/plain": [
       "<matplotlib.figure.Figure at 0x7f77b0946310>"
      ]
     },
     "metadata": {},
     "output_type": "display_data"
    }
   ],
   "source": [
    "params = {}\n",
    "params['objective'] = 'multi:softprob'\n",
    "params['num_class'] = 3\n",
    "params['eta'] = 0.1 # 0.02\n",
    "params['numrounds'] = 100 \n",
    "params['eval_metric'] = 'mlogloss'\n",
    "params['max_depth'] = 2\n",
    "params['subsample'] = 0.75\n",
    "params['min_child_weight'] = 1\n",
    "params['nthread'] = 64\n",
    "params['gamma'] = 1.5\n",
    "params['seed'] = 1\n",
    "\n",
    "xgtrain_stack = xgb.DMatrix(train_stack.values, labels)\n",
    "\n",
    "t = xgb.cv(params, xgtrain_stack, num_boost_round=params['numrounds'], nfold=5, verbose_eval=10, show_stdv=0, seed=0)\n",
    "f, (ax1, ax2) = plt.subplots(1, 2, figsize=(20, 6))\n",
    "ax1.plot(t.index, t['test-mlogloss-mean'])\n",
    "print t['test-mlogloss-mean'].min()\n",
    "print t['test-mlogloss-mean'].argmin() + 1\n",
    "\n",
    "best_iter = t['test-mlogloss-mean'].argmin()\n",
    "_ = ax2.plot(t.index[best_iter-5:best_iter+6], t.loc[best_iter-5:best_iter+5, 'test-mlogloss-mean'])\n",
    "# .4319"
   ]
  },
  {
   "cell_type": "code",
   "execution_count": 117,
   "metadata": {
    "collapsed": false
   },
   "outputs": [],
   "source": [
    "model = xgb.train(params, xgtrain_stack, num_boost_round=92)\n",
    "\n",
    "xgtest_stack = xgb.DMatrix(test_stack.values)\n",
    "preds = model.predict(xgtest_stack)\n",
    "submit(preds, 'stacking')"
   ]
  },
  {
   "cell_type": "code",
   "execution_count": 105,
   "metadata": {
    "collapsed": false
   },
   "outputs": [
    {
     "name": "stdout",
     "output_type": "stream",
     "text": [
      "-0.424663879246\n"
     ]
    }
   ],
   "source": [
    "from sklearn.base import BaseEstimator\n",
    "from sklearn.cross_validation import cross_val_score, KFold\n",
    "\n",
    "estim = xgb.XGBClassifier(learning_rate=0.1, n_estimators=100, max_depth=2, \n",
    "                          subsample=0.75, gamma=1.5, objective='multi:softprob')\n",
    "cv = KFold(train.shape[0], n_folds=5, random_state=42)\n",
    "print cross_val_score(estim, train_stack, labels, cv=cv, scoring='neg_log_loss').mean()"
   ]
  },
  {
   "cell_type": "code",
   "execution_count": 118,
   "metadata": {
    "collapsed": false
   },
   "outputs": [],
   "source": [
    "xgtest_stack = xgb.DMatrix(test_stack.values)\n",
    "preds_20x_seed = np.zeros(shape=(test.shape[0], 3))\n",
    "\n",
    "iterations = 20\n",
    "\n",
    "for iter in range(iterations):\n",
    "    params['seed'] = iter\n",
    "    model = xgb.train(params, xgtrain_stack, num_boost_round=92)\n",
    "    preds_20x_seed += model.predict(xgtest_stack)\n",
    "    \n",
    "preds_20x_seed = preds_20x_seed / iterations\n",
    "\n",
    "submit(preds_20x_seed, \"stacking_20x_seed\")    "
   ]
  },
  {
   "cell_type": "code",
   "execution_count": 122,
   "metadata": {
    "collapsed": true
   },
   "outputs": [],
   "source": [
    "preds_average = (preds_blend + preds_20x_seed) / 2\n",
    "submit(preds_average, 'average')"
   ]
  }
 ],
 "metadata": {
  "anaconda-cloud": {},
  "kernelspec": {
   "display_name": "Python 3",
   "language": "python",
   "name": "python3"
  },
  "language_info": {
   "codemirror_mode": {
    "name": "ipython",
    "version": 3
   },
   "file_extension": ".py",
   "mimetype": "text/x-python",
   "name": "python",
   "nbconvert_exporter": "python",
   "pygments_lexer": "ipython3",
   "version": "3.6.0"
  }
 },
 "nbformat": 4,
 "nbformat_minor": 0
}
